{
 "cells": [
  {
   "cell_type": "markdown",
   "metadata": {},
   "source": [
    "You work for Spark Funds, an asset management company. Spark Funds wants to make \n",
    "investments in a few companies. The CEO of Spark Funds wants to understand the global trends \n",
    "in investments so that she can take the investment decisions effectively.\n",
    "\n",
    "Spark Funds has two minor constraints for investments: \n",
    "1. It wants to invest between 5 to 15 million USD per round of investment \n",
    "2. It wants to invest only in English-speaking countries because of the ease of \n",
    "communication with the companies it would invest in."
   ]
  },
  {
   "cell_type": "markdown",
   "metadata": {},
   "source": [
    "## Importing Libraries"
   ]
  },
  {
   "cell_type": "code",
   "execution_count": 1,
   "metadata": {},
   "outputs": [],
   "source": [
    "import pandas as pd\n",
    "import numpy as np\n",
    "import matplotlib.pyplot as plt\n",
    "import seaborn as sb\n",
    "pd.options.display.float_format = '{:,.2f}'.format"
   ]
  },
  {
   "cell_type": "code",
   "execution_count": 2,
   "metadata": {},
   "outputs": [],
   "source": [
    "#LOADING FILES AND CREATING DATAFRAMES\n",
    "companies=pd.read_csv(r\"F:\\Data Analytics\\Industrial-Assignment\\Industrial-Assignment\\companies.txt\",encoding = \"ISO-8859-1\",sep=\"\\t\")\n",
    "rounds2=pd.read_csv(r\"F:\\Data Analytics\\Industrial-Assignment\\Industrial-Assignment\\rounds2.csv\",encoding = \"ISO-8859-1\")"
   ]
  },
  {
   "cell_type": "code",
   "execution_count": 3,
   "metadata": {},
   "outputs": [
    {
     "data": {
      "text/html": [
       "<div>\n",
       "<style scoped>\n",
       "    .dataframe tbody tr th:only-of-type {\n",
       "        vertical-align: middle;\n",
       "    }\n",
       "\n",
       "    .dataframe tbody tr th {\n",
       "        vertical-align: top;\n",
       "    }\n",
       "\n",
       "    .dataframe thead th {\n",
       "        text-align: right;\n",
       "    }\n",
       "</style>\n",
       "<table border=\"1\" class=\"dataframe\">\n",
       "  <thead>\n",
       "    <tr style=\"text-align: right;\">\n",
       "      <th></th>\n",
       "      <th>company_permalink</th>\n",
       "      <th>funding_round_permalink</th>\n",
       "      <th>funding_round_type</th>\n",
       "      <th>funding_round_code</th>\n",
       "      <th>funded_at</th>\n",
       "      <th>raised_amount_usd</th>\n",
       "    </tr>\n",
       "  </thead>\n",
       "  <tbody>\n",
       "    <tr>\n",
       "      <th>0</th>\n",
       "      <td>/organization/-fame</td>\n",
       "      <td>/funding-round/9a01d05418af9f794eebff7ace91f638</td>\n",
       "      <td>venture</td>\n",
       "      <td>B</td>\n",
       "      <td>05-01-2015</td>\n",
       "      <td>10,000,000.00</td>\n",
       "    </tr>\n",
       "    <tr>\n",
       "      <th>1</th>\n",
       "      <td>/ORGANIZATION/-QOUNTER</td>\n",
       "      <td>/funding-round/22dacff496eb7acb2b901dec1dfe5633</td>\n",
       "      <td>venture</td>\n",
       "      <td>A</td>\n",
       "      <td>14-10-2014</td>\n",
       "      <td>nan</td>\n",
       "    </tr>\n",
       "    <tr>\n",
       "      <th>2</th>\n",
       "      <td>/organization/-qounter</td>\n",
       "      <td>/funding-round/b44fbb94153f6cdef13083530bb48030</td>\n",
       "      <td>seed</td>\n",
       "      <td>NaN</td>\n",
       "      <td>01-03-2014</td>\n",
       "      <td>700,000.00</td>\n",
       "    </tr>\n",
       "    <tr>\n",
       "      <th>3</th>\n",
       "      <td>/ORGANIZATION/-THE-ONE-OF-THEM-INC-</td>\n",
       "      <td>/funding-round/650b8f704416801069bb178a1418776b</td>\n",
       "      <td>venture</td>\n",
       "      <td>B</td>\n",
       "      <td>30-01-2014</td>\n",
       "      <td>3,406,878.00</td>\n",
       "    </tr>\n",
       "    <tr>\n",
       "      <th>4</th>\n",
       "      <td>/organization/0-6-com</td>\n",
       "      <td>/funding-round/5727accaeaa57461bd22a9bdd945382d</td>\n",
       "      <td>venture</td>\n",
       "      <td>A</td>\n",
       "      <td>19-03-2008</td>\n",
       "      <td>2,000,000.00</td>\n",
       "    </tr>\n",
       "  </tbody>\n",
       "</table>\n",
       "</div>"
      ],
      "text/plain": [
       "                     company_permalink  \\\n",
       "0                  /organization/-fame   \n",
       "1               /ORGANIZATION/-QOUNTER   \n",
       "2               /organization/-qounter   \n",
       "3  /ORGANIZATION/-THE-ONE-OF-THEM-INC-   \n",
       "4                /organization/0-6-com   \n",
       "\n",
       "                           funding_round_permalink funding_round_type  \\\n",
       "0  /funding-round/9a01d05418af9f794eebff7ace91f638            venture   \n",
       "1  /funding-round/22dacff496eb7acb2b901dec1dfe5633            venture   \n",
       "2  /funding-round/b44fbb94153f6cdef13083530bb48030               seed   \n",
       "3  /funding-round/650b8f704416801069bb178a1418776b            venture   \n",
       "4  /funding-round/5727accaeaa57461bd22a9bdd945382d            venture   \n",
       "\n",
       "  funding_round_code   funded_at  raised_amount_usd  \n",
       "0                  B  05-01-2015      10,000,000.00  \n",
       "1                  A  14-10-2014                nan  \n",
       "2                NaN  01-03-2014         700,000.00  \n",
       "3                  B  30-01-2014       3,406,878.00  \n",
       "4                  A  19-03-2008       2,000,000.00  "
      ]
     },
     "execution_count": 3,
     "metadata": {},
     "output_type": "execute_result"
    }
   ],
   "source": [
    "rounds2.head()"
   ]
  },
  {
   "cell_type": "code",
   "execution_count": 4,
   "metadata": {},
   "outputs": [
    {
     "data": {
      "text/html": [
       "<div>\n",
       "<style scoped>\n",
       "    .dataframe tbody tr th:only-of-type {\n",
       "        vertical-align: middle;\n",
       "    }\n",
       "\n",
       "    .dataframe tbody tr th {\n",
       "        vertical-align: top;\n",
       "    }\n",
       "\n",
       "    .dataframe thead th {\n",
       "        text-align: right;\n",
       "    }\n",
       "</style>\n",
       "<table border=\"1\" class=\"dataframe\">\n",
       "  <thead>\n",
       "    <tr style=\"text-align: right;\">\n",
       "      <th></th>\n",
       "      <th>permalink</th>\n",
       "      <th>name</th>\n",
       "      <th>homepage_url</th>\n",
       "      <th>category_list</th>\n",
       "      <th>status</th>\n",
       "      <th>country_code</th>\n",
       "      <th>state_code</th>\n",
       "      <th>region</th>\n",
       "      <th>city</th>\n",
       "      <th>founded_at</th>\n",
       "    </tr>\n",
       "  </thead>\n",
       "  <tbody>\n",
       "    <tr>\n",
       "      <th>0</th>\n",
       "      <td>/Organization/-Fame</td>\n",
       "      <td>#fame</td>\n",
       "      <td>http://livfame.com</td>\n",
       "      <td>Media</td>\n",
       "      <td>operating</td>\n",
       "      <td>IND</td>\n",
       "      <td>16</td>\n",
       "      <td>Mumbai</td>\n",
       "      <td>Mumbai</td>\n",
       "      <td>NaN</td>\n",
       "    </tr>\n",
       "    <tr>\n",
       "      <th>1</th>\n",
       "      <td>/Organization/-Qounter</td>\n",
       "      <td>:Qounter</td>\n",
       "      <td>http://www.qounter.com</td>\n",
       "      <td>Application Platforms|Real Time|Social Network...</td>\n",
       "      <td>operating</td>\n",
       "      <td>USA</td>\n",
       "      <td>DE</td>\n",
       "      <td>DE - Other</td>\n",
       "      <td>Delaware City</td>\n",
       "      <td>04-09-2014</td>\n",
       "    </tr>\n",
       "    <tr>\n",
       "      <th>2</th>\n",
       "      <td>/Organization/-The-One-Of-Them-Inc-</td>\n",
       "      <td>(THE) ONE of THEM,Inc.</td>\n",
       "      <td>http://oneofthem.jp</td>\n",
       "      <td>Apps|Games|Mobile</td>\n",
       "      <td>operating</td>\n",
       "      <td>NaN</td>\n",
       "      <td>NaN</td>\n",
       "      <td>NaN</td>\n",
       "      <td>NaN</td>\n",
       "      <td>NaN</td>\n",
       "    </tr>\n",
       "    <tr>\n",
       "      <th>3</th>\n",
       "      <td>/Organization/0-6-Com</td>\n",
       "      <td>0-6.com</td>\n",
       "      <td>http://www.0-6.com</td>\n",
       "      <td>Curated Web</td>\n",
       "      <td>operating</td>\n",
       "      <td>CHN</td>\n",
       "      <td>22</td>\n",
       "      <td>Beijing</td>\n",
       "      <td>Beijing</td>\n",
       "      <td>01-01-2007</td>\n",
       "    </tr>\n",
       "    <tr>\n",
       "      <th>4</th>\n",
       "      <td>/Organization/004-Technologies</td>\n",
       "      <td>004 Technologies</td>\n",
       "      <td>http://004gmbh.de/en/004-interact</td>\n",
       "      <td>Software</td>\n",
       "      <td>operating</td>\n",
       "      <td>USA</td>\n",
       "      <td>IL</td>\n",
       "      <td>Springfield, Illinois</td>\n",
       "      <td>Champaign</td>\n",
       "      <td>01-01-2010</td>\n",
       "    </tr>\n",
       "  </tbody>\n",
       "</table>\n",
       "</div>"
      ],
      "text/plain": [
       "                             permalink                    name  \\\n",
       "0                  /Organization/-Fame                   #fame   \n",
       "1               /Organization/-Qounter                :Qounter   \n",
       "2  /Organization/-The-One-Of-Them-Inc-  (THE) ONE of THEM,Inc.   \n",
       "3                /Organization/0-6-Com                 0-6.com   \n",
       "4       /Organization/004-Technologies        004 Technologies   \n",
       "\n",
       "                        homepage_url  \\\n",
       "0                 http://livfame.com   \n",
       "1             http://www.qounter.com   \n",
       "2                http://oneofthem.jp   \n",
       "3                 http://www.0-6.com   \n",
       "4  http://004gmbh.de/en/004-interact   \n",
       "\n",
       "                                       category_list     status country_code  \\\n",
       "0                                              Media  operating          IND   \n",
       "1  Application Platforms|Real Time|Social Network...  operating          USA   \n",
       "2                                  Apps|Games|Mobile  operating          NaN   \n",
       "3                                        Curated Web  operating          CHN   \n",
       "4                                           Software  operating          USA   \n",
       "\n",
       "  state_code                 region           city  founded_at  \n",
       "0         16                 Mumbai         Mumbai         NaN  \n",
       "1         DE             DE - Other  Delaware City  04-09-2014  \n",
       "2        NaN                    NaN            NaN         NaN  \n",
       "3         22                Beijing        Beijing  01-01-2007  \n",
       "4         IL  Springfield, Illinois      Champaign  01-01-2010  "
      ]
     },
     "execution_count": 4,
     "metadata": {},
     "output_type": "execute_result"
    }
   ],
   "source": [
    "companies.head()"
   ]
  },
  {
   "cell_type": "code",
   "execution_count": 5,
   "metadata": {},
   "outputs": [
    {
     "name": "stdout",
     "output_type": "stream",
     "text": [
      "<class 'pandas.core.frame.DataFrame'>\n",
      "RangeIndex: 66368 entries, 0 to 66367\n",
      "Data columns (total 10 columns):\n",
      "permalink        66368 non-null object\n",
      "name             66367 non-null object\n",
      "homepage_url     61310 non-null object\n",
      "category_list    63220 non-null object\n",
      "status           66368 non-null object\n",
      "country_code     59410 non-null object\n",
      "state_code       57821 non-null object\n",
      "region           58338 non-null object\n",
      "city             58340 non-null object\n",
      "founded_at       51147 non-null object\n",
      "dtypes: object(10)\n",
      "memory usage: 5.1+ MB\n"
     ]
    }
   ],
   "source": [
    "companies.info()"
   ]
  },
  {
   "cell_type": "code",
   "execution_count": 6,
   "metadata": {},
   "outputs": [
    {
     "name": "stdout",
     "output_type": "stream",
     "text": [
      "<class 'pandas.core.frame.DataFrame'>\n",
      "RangeIndex: 114949 entries, 0 to 114948\n",
      "Data columns (total 6 columns):\n",
      "company_permalink          114949 non-null object\n",
      "funding_round_permalink    114949 non-null object\n",
      "funding_round_type         114949 non-null object\n",
      "funding_round_code         31140 non-null object\n",
      "funded_at                  114949 non-null object\n",
      "raised_amount_usd          94959 non-null float64\n",
      "dtypes: float64(1), object(5)\n",
      "memory usage: 5.3+ MB\n"
     ]
    }
   ],
   "source": [
    "rounds2.info()"
   ]
  },
  {
   "cell_type": "markdown",
   "metadata": {},
   "source": [
    "#   Data Understanding And Prepration"
   ]
  },
  {
   "cell_type": "code",
   "execution_count": 7,
   "metadata": {},
   "outputs": [],
   "source": [
    "#Converting the upper cases to lower cases in company_permalink and permalink column of rounds2 and companies dataframe repectively\n",
    "rounds2[\"company_permalink\"]=rounds2[\"company_permalink\"].str.lower()\n",
    "companies[\"permalink\"]=companies[\"permalink\"].str.lower()"
   ]
  },
  {
   "cell_type": "code",
   "execution_count": 8,
   "metadata": {},
   "outputs": [
    {
     "name": "stdout",
     "output_type": "stream",
     "text": [
      "['/organization/-fame' '/organization/-qounter'\n",
      " '/organization/-the-one-of-them-inc-' ... '/organization/ã\\x81eron'\n",
      " '/organization/ã\\x94asys-2'\n",
      " '/organization/ä°novatiff-reklam-ve-tanä±tä±m-hizmetleri-tic']\n",
      "66370\n"
     ]
    }
   ],
   "source": [
    "# Unique Companies in round2\n",
    "print(rounds2[\"company_permalink\"].unique())\n",
    "print(rounds2[\"company_permalink\"].nunique())"
   ]
  },
  {
   "cell_type": "code",
   "execution_count": 9,
   "metadata": {},
   "outputs": [
    {
     "name": "stdout",
     "output_type": "stream",
     "text": [
      "['/organization/-fame' '/organization/-qounter'\n",
      " '/organization/-the-one-of-them-inc-' ... '/organization/ã\\x81eron'\n",
      " '/organization/ã\\x94asys-2'\n",
      " '/organization/ä°novatiff-reklam-ve-tanä±tä±m-hizmetleri-tic']\n",
      "66368\n"
     ]
    }
   ],
   "source": [
    "# Unique Companies in companies \n",
    "print(companies.permalink.unique())\n",
    "print(companies.permalink.nunique())"
   ]
  },
  {
   "cell_type": "markdown",
   "metadata": {},
   "source": [
    "### We have seen that there are ``` junk``` characters in the company and rounds2 dataset therefore removing the junk characters "
   ]
  },
  {
   "cell_type": "code",
   "execution_count": 10,
   "metadata": {},
   "outputs": [],
   "source": [
    "##REMOVING JUNK\n",
    "rounds2['company_permalink']=rounds2['company_permalink'].apply(lambda x:x.encode('utf-8').decode('ascii','ignore'))\n",
    "companies[\"permalink\"]=companies[\"permalink\"].apply(lambda x:x.encode('utf-8').decode('ascii','ignore'))"
   ]
  },
  {
   "cell_type": "markdown",
   "metadata": {},
   "source": [
    "### Now working on the datasets"
   ]
  },
  {
   "cell_type": "code",
   "execution_count": 11,
   "metadata": {},
   "outputs": [
    {
     "name": "stdout",
     "output_type": "stream",
     "text": [
      "66368\n",
      "66368\n"
     ]
    }
   ],
   "source": [
    "# Unique Companies in round2\n",
    "rounds_unique=rounds2[\"company_permalink\"].unique()\n",
    "print(rounds2[\"company_permalink\"].nunique())\n",
    "\n",
    "\n",
    "# Unique Companies in companies \n",
    "company_unique=companies.permalink.unique()\n",
    "print(companies.permalink.nunique())"
   ]
  },
  {
   "cell_type": "code",
   "execution_count": 12,
   "metadata": {},
   "outputs": [
    {
     "data": {
      "text/plain": [
       "permalink        66368\n",
       "name             66102\n",
       "homepage_url     61191\n",
       "category_list    27296\n",
       "status               4\n",
       "country_code       137\n",
       "state_code         311\n",
       "region            1092\n",
       "city              5111\n",
       "founded_at        3978\n",
       "dtype: int64"
      ]
     },
     "execution_count": 12,
     "metadata": {},
     "output_type": "execute_result"
    }
   ],
   "source": [
    "companies.nunique()\n",
    "#WE CAN USE permalink columns as a key for each comapny"
   ]
  },
  {
   "cell_type": "code",
   "execution_count": 13,
   "metadata": {},
   "outputs": [
    {
     "name": "stdout",
     "output_type": "stream",
     "text": [
      "True\n"
     ]
    }
   ],
   "source": [
    "## Checking  that rounds2 company permalink are same as comapnies permalinks\n",
    "print((rounds_unique==company_unique).all())"
   ]
  },
  {
   "cell_type": "code",
   "execution_count": 14,
   "metadata": {},
   "outputs": [],
   "source": [
    "## MERGING THE TWO DATA FRAMES\n",
    "master_frame=pd.merge(rounds2,companies,left_on=\"company_permalink\",right_on=\"permalink\",how=\"inner\")"
   ]
  },
  {
   "cell_type": "code",
   "execution_count": 15,
   "metadata": {},
   "outputs": [
    {
     "data": {
      "text/plain": [
       "(114949, 16)"
      ]
     },
     "execution_count": 15,
     "metadata": {},
     "output_type": "execute_result"
    }
   ],
   "source": [
    "master_frame.shape"
   ]
  },
  {
   "cell_type": "code",
   "execution_count": 16,
   "metadata": {},
   "outputs": [
    {
     "name": "stdout",
     "output_type": "stream",
     "text": [
      "<class 'pandas.core.frame.DataFrame'>\n",
      "Int64Index: 114949 entries, 0 to 114948\n",
      "Data columns (total 16 columns):\n",
      "company_permalink          114949 non-null object\n",
      "funding_round_permalink    114949 non-null object\n",
      "funding_round_type         114949 non-null object\n",
      "funding_round_code         31140 non-null object\n",
      "funded_at                  114949 non-null object\n",
      "raised_amount_usd          94959 non-null float64\n",
      "permalink                  114949 non-null object\n",
      "name                       114948 non-null object\n",
      "homepage_url               108815 non-null object\n",
      "category_list              111539 non-null object\n",
      "status                     114949 non-null object\n",
      "country_code               106271 non-null object\n",
      "state_code                 104003 non-null object\n",
      "region                     104782 non-null object\n",
      "city                       104785 non-null object\n",
      "founded_at                 94428 non-null object\n",
      "dtypes: float64(1), object(15)\n",
      "memory usage: 14.9+ MB\n"
     ]
    }
   ],
   "source": [
    "master_frame.info()"
   ]
  },
  {
   "cell_type": "markdown",
   "metadata": {},
   "source": [
    "# Cleaning the dataset\n"
   ]
  },
  {
   "cell_type": "code",
   "execution_count": 17,
   "metadata": {},
   "outputs": [
    {
     "data": {
      "text/plain": [
       "company_permalink          0.00\n",
       "funding_round_permalink    0.00\n",
       "funding_round_type         0.00\n",
       "funding_round_code        72.91\n",
       "funded_at                  0.00\n",
       "raised_amount_usd         17.39\n",
       "permalink                  0.00\n",
       "name                       0.00\n",
       "homepage_url               5.34\n",
       "category_list              2.97\n",
       "status                     0.00\n",
       "country_code               7.55\n",
       "state_code                 9.52\n",
       "region                     8.84\n",
       "city                       8.84\n",
       "founded_at                17.85\n",
       "dtype: float64"
      ]
     },
     "execution_count": 17,
     "metadata": {},
     "output_type": "execute_result"
    }
   ],
   "source": [
    "#Checking the percentage of null data\n",
    "100*(master_frame.isnull().sum()/len(master_frame))"
   ]
  },
  {
   "cell_type": "code",
   "execution_count": 18,
   "metadata": {},
   "outputs": [],
   "source": [
    "# Removing the columns \"funding_round_code\",\"founded_at\",\"permalink\"\n",
    "master_frame=master_frame.drop(labels=[\"funding_round_code\",\"founded_at\",\"permalink\"],axis=1)"
   ]
  },
  {
   "cell_type": "code",
   "execution_count": 19,
   "metadata": {},
   "outputs": [
    {
     "data": {
      "text/plain": [
       "company_permalink          0.00\n",
       "funding_round_permalink    0.00\n",
       "funding_round_type         0.00\n",
       "funded_at                  0.00\n",
       "raised_amount_usd         17.39\n",
       "name                       0.00\n",
       "homepage_url               5.34\n",
       "category_list              2.97\n",
       "status                     0.00\n",
       "country_code               7.55\n",
       "state_code                 9.52\n",
       "region                     8.84\n",
       "city                       8.84\n",
       "dtype: float64"
      ]
     },
     "execution_count": 19,
     "metadata": {},
     "output_type": "execute_result"
    }
   ],
   "source": [
    "100*(master_frame.isnull().sum()/len(master_frame))"
   ]
  },
  {
   "cell_type": "code",
   "execution_count": 20,
   "metadata": {},
   "outputs": [],
   "source": [
    "# Now we would remove the rows for which we have nan values for the ```raised_amount_usd```\n",
    "master_frame=master_frame[~np.isnan(master_frame[\"raised_amount_usd\"])]"
   ]
  },
  {
   "cell_type": "code",
   "execution_count": 21,
   "metadata": {},
   "outputs": [
    {
     "data": {
      "text/plain": [
       "company_permalink         0.00\n",
       "funding_round_permalink   0.00\n",
       "funding_round_type        0.00\n",
       "funded_at                 0.00\n",
       "raised_amount_usd         0.00\n",
       "name                      0.00\n",
       "homepage_url              4.56\n",
       "category_list             1.10\n",
       "status                    0.00\n",
       "country_code              6.16\n",
       "state_code                8.01\n",
       "region                    7.42\n",
       "city                      7.42\n",
       "dtype: float64"
      ]
     },
     "execution_count": 21,
     "metadata": {},
     "output_type": "execute_result"
    }
   ],
   "source": [
    "100*(master_frame.isnull().sum()/len(master_frame))"
   ]
  },
  {
   "cell_type": "code",
   "execution_count": 22,
   "metadata": {},
   "outputs": [],
   "source": [
    "# Further dropping the columns that are of no usage for our analysis\n",
    "master_frame=master_frame.drop(labels=[\"homepage_url\",\"state_code\",\"region\",\"city\"],axis=1)"
   ]
  },
  {
   "cell_type": "code",
   "execution_count": 23,
   "metadata": {},
   "outputs": [
    {
     "data": {
      "text/plain": [
       "company_permalink         0.00\n",
       "funding_round_permalink   0.00\n",
       "funding_round_type        0.00\n",
       "funded_at                 0.00\n",
       "raised_amount_usd         0.00\n",
       "name                      0.00\n",
       "category_list             1.10\n",
       "status                    0.00\n",
       "country_code              6.16\n",
       "dtype: float64"
      ]
     },
     "execution_count": 23,
     "metadata": {},
     "output_type": "execute_result"
    }
   ],
   "source": [
    "100*(master_frame.isnull().sum()/len(master_frame))"
   ]
  },
  {
   "cell_type": "code",
   "execution_count": 24,
   "metadata": {},
   "outputs": [],
   "source": [
    "# removing the rows where category list is null\n",
    "master_frame=master_frame[~pd.isnull(master_frame[\"category_list\"])]"
   ]
  },
  {
   "cell_type": "code",
   "execution_count": 25,
   "metadata": {},
   "outputs": [],
   "source": [
    "#removing the rows where name is null\n",
    "master_frame=master_frame[~pd.isnull(master_frame[\"name\"])]"
   ]
  },
  {
   "cell_type": "code",
   "execution_count": 26,
   "metadata": {},
   "outputs": [
    {
     "data": {
      "text/plain": [
       "company_permalink         0.00\n",
       "funding_round_permalink   0.00\n",
       "funding_round_type        0.00\n",
       "funded_at                 0.00\n",
       "raised_amount_usd         0.00\n",
       "name                      0.00\n",
       "category_list             0.00\n",
       "status                    0.00\n",
       "country_code              5.74\n",
       "dtype: float64"
      ]
     },
     "execution_count": 26,
     "metadata": {},
     "output_type": "execute_result"
    }
   ],
   "source": [
    "100*(master_frame.isnull().sum()/len(master_frame))"
   ]
  },
  {
   "cell_type": "code",
   "execution_count": 27,
   "metadata": {},
   "outputs": [],
   "source": [
    "master_frame=master_frame[~pd.isnull(master_frame[\"country_code\"])]"
   ]
  },
  {
   "cell_type": "code",
   "execution_count": 28,
   "metadata": {},
   "outputs": [],
   "source": [
    "## Now remove further columns which are of less importance to us\n",
    "master_frame=master_frame.drop(labels=[\"funding_round_permalink\",\"funded_at\",\"name\"],axis=1)"
   ]
  },
  {
   "cell_type": "code",
   "execution_count": 29,
   "metadata": {},
   "outputs": [
    {
     "data": {
      "text/html": [
       "<div>\n",
       "<style scoped>\n",
       "    .dataframe tbody tr th:only-of-type {\n",
       "        vertical-align: middle;\n",
       "    }\n",
       "\n",
       "    .dataframe tbody tr th {\n",
       "        vertical-align: top;\n",
       "    }\n",
       "\n",
       "    .dataframe thead th {\n",
       "        text-align: right;\n",
       "    }\n",
       "</style>\n",
       "<table border=\"1\" class=\"dataframe\">\n",
       "  <thead>\n",
       "    <tr style=\"text-align: right;\">\n",
       "      <th></th>\n",
       "      <th>company_permalink</th>\n",
       "      <th>funding_round_type</th>\n",
       "      <th>raised_amount_usd</th>\n",
       "      <th>category_list</th>\n",
       "      <th>status</th>\n",
       "      <th>country_code</th>\n",
       "    </tr>\n",
       "  </thead>\n",
       "  <tbody>\n",
       "    <tr>\n",
       "      <th>0</th>\n",
       "      <td>/organization/-fame</td>\n",
       "      <td>venture</td>\n",
       "      <td>10,000,000.00</td>\n",
       "      <td>Media</td>\n",
       "      <td>operating</td>\n",
       "      <td>IND</td>\n",
       "    </tr>\n",
       "    <tr>\n",
       "      <th>2</th>\n",
       "      <td>/organization/-qounter</td>\n",
       "      <td>seed</td>\n",
       "      <td>700,000.00</td>\n",
       "      <td>Application Platforms|Real Time|Social Network...</td>\n",
       "      <td>operating</td>\n",
       "      <td>USA</td>\n",
       "    </tr>\n",
       "    <tr>\n",
       "      <th>4</th>\n",
       "      <td>/organization/0-6-com</td>\n",
       "      <td>venture</td>\n",
       "      <td>2,000,000.00</td>\n",
       "      <td>Curated Web</td>\n",
       "      <td>operating</td>\n",
       "      <td>CHN</td>\n",
       "    </tr>\n",
       "    <tr>\n",
       "      <th>6</th>\n",
       "      <td>/organization/01games-technology</td>\n",
       "      <td>undisclosed</td>\n",
       "      <td>41,250.00</td>\n",
       "      <td>Games</td>\n",
       "      <td>operating</td>\n",
       "      <td>HKG</td>\n",
       "    </tr>\n",
       "    <tr>\n",
       "      <th>7</th>\n",
       "      <td>/organization/0ndine-biomedical-inc</td>\n",
       "      <td>seed</td>\n",
       "      <td>43,360.00</td>\n",
       "      <td>Biotechnology</td>\n",
       "      <td>operating</td>\n",
       "      <td>CAN</td>\n",
       "    </tr>\n",
       "  </tbody>\n",
       "</table>\n",
       "</div>"
      ],
      "text/plain": [
       "                     company_permalink funding_round_type  raised_amount_usd  \\\n",
       "0                  /organization/-fame            venture      10,000,000.00   \n",
       "2               /organization/-qounter               seed         700,000.00   \n",
       "4                /organization/0-6-com            venture       2,000,000.00   \n",
       "6     /organization/01games-technology        undisclosed          41,250.00   \n",
       "7  /organization/0ndine-biomedical-inc               seed          43,360.00   \n",
       "\n",
       "                                       category_list     status country_code  \n",
       "0                                              Media  operating          IND  \n",
       "2  Application Platforms|Real Time|Social Network...  operating          USA  \n",
       "4                                        Curated Web  operating          CHN  \n",
       "6                                              Games  operating          HKG  \n",
       "7                                      Biotechnology  operating          CAN  "
      ]
     },
     "execution_count": 29,
     "metadata": {},
     "output_type": "execute_result"
    }
   ],
   "source": [
    "master_frame.head()"
   ]
  },
  {
   "cell_type": "code",
   "execution_count": 30,
   "metadata": {},
   "outputs": [
    {
     "data": {
      "text/plain": [
       "(88528, 6)"
      ]
     },
     "execution_count": 30,
     "metadata": {},
     "output_type": "execute_result"
    }
   ],
   "source": [
    "master_frame.shape"
   ]
  },
  {
   "cell_type": "markdown",
   "metadata": {},
   "source": [
    "#  Funding Type Analysis "
   ]
  },
  {
   "cell_type": "markdown",
   "metadata": {},
   "source": [
    "## Investment type analysis"
   ]
  },
  {
   "cell_type": "markdown",
   "metadata": {},
   "source": [
    "Spark Funds wants to choose one of these four investment types(venture, angel, seed, and private equity) for each potential investment they will make.\n",
    "\n",
    "Calculate the most representative value of the investment amount for each of the four funding types (venture, angel, seed, and private equity)\n",
    "As mentioned above we have to extract data where funding_round_type is venture, angel, seed, and private equity"
   ]
  },
  {
   "cell_type": "code",
   "execution_count": 31,
   "metadata": {},
   "outputs": [
    {
     "data": {
      "text/plain": [
       "array(['venture', 'seed', 'undisclosed', 'convertible_note',\n",
       "       'private_equity', 'debt_financing', 'angel', 'grant',\n",
       "       'equity_crowdfunding', 'post_ipo_equity', 'post_ipo_debt',\n",
       "       'product_crowdfunding', 'secondary_market',\n",
       "       'non_equity_assistance'], dtype=object)"
      ]
     },
     "execution_count": 31,
     "metadata": {},
     "output_type": "execute_result"
    }
   ],
   "source": [
    "master_frame.funding_round_type.unique()"
   ]
  },
  {
   "cell_type": "code",
   "execution_count": 32,
   "metadata": {},
   "outputs": [],
   "source": [
    "fund_master_frame=master_frame[(master_frame.raised_amount_usd>=5000000)&(master_frame.raised_amount_usd<=15000000)]"
   ]
  },
  {
   "cell_type": "code",
   "execution_count": 33,
   "metadata": {},
   "outputs": [
    {
     "data": {
      "text/plain": [
       "(17887, 6)"
      ]
     },
     "execution_count": 33,
     "metadata": {},
     "output_type": "execute_result"
    }
   ],
   "source": [
    "fund_master_frame.shape"
   ]
  },
  {
   "cell_type": "code",
   "execution_count": 34,
   "metadata": {},
   "outputs": [],
   "source": [
    "#Taking the funding round type as on of the four types\n",
    "lst=['venture', 'angel', 'seed','private_equity']\n",
    "fund_master_frame=master_frame[master_frame.funding_round_type.isin(lst)]"
   ]
  },
  {
   "cell_type": "code",
   "execution_count": 35,
   "metadata": {},
   "outputs": [
    {
     "data": {
      "text/plain": [
       "<matplotlib.lines.Line2D at 0x2206b083cf8>"
      ]
     },
     "execution_count": 35,
     "metadata": {},
     "output_type": "execute_result"
    },
    {
     "data": {
      "image/png": "[encoded data removed]",
      "text/plain": [
       "<matplotlib.figure.Figure at 0x2206bbdb208>"
      ]
     },
     "metadata": {
      "needs_background": "light"
     },
     "output_type": "display_data"
    }
   ],
   "source": [
    "# Graph to see which funding type investmenst are under our constraints\n",
    "plt.figure(figsize=(12,6))\n",
    "plt.title(\"range of investments\")\n",
    "sb.barplot(x=\"funding_round_type\",y=\"raised_amount_usd\",data=fund_master_frame)\n",
    "plt.axhline(y=5000000, linewidth=2, color = 'k')\n",
    "plt.axhline(y=15000000, linewidth=2, color = 'k')"
   ]
  },
  {
   "cell_type": "markdown",
   "metadata": {},
   "source": [
    "### From the above graph we have seen that ```venture``` and  ```private_equity``` lies between the criteria of investment b/w 5 million to 15 million"
   ]
  },
  {
   "cell_type": "code",
   "execution_count": 36,
   "metadata": {},
   "outputs": [
    {
     "data": {
      "text/plain": [
       "<matplotlib.axes._subplots.AxesSubplot at 0x2206bbbce80>"
      ]
     },
     "execution_count": 36,
     "metadata": {},
     "output_type": "execute_result"
    },
    {
     "data": {
      "image/png": "[encoded data removed]",
      "text/plain": [
       "<matplotlib.figure.Figure at 0x2206bbbce10>"
      ]
     },
     "metadata": {
      "needs_background": "light"
     },
     "output_type": "display_data"
    }
   ],
   "source": [
    "# Now checking for which funding round type would be taken ...\n",
    "plt.figure(figsize=(12,6))\n",
    "#Count plot to see which fund round type is the most where investments are done\n",
    "plt.title(\"counts of investments\")\n",
    "sb.countplot(x=\"funding_round_type\",data=fund_master_frame)"
   ]
  },
  {
   "cell_type": "markdown",
   "metadata": {},
   "source": [
    "### It is clear from the above graph that  ```venture```  is having more number of investments than the ```private_equity``` therefor taking the  ```venture```  as  the most suitable for Spark Funds"
   ]
  },
  {
   "cell_type": "code",
   "execution_count": 37,
   "metadata": {},
   "outputs": [
    {
     "data": {
      "text/plain": [
       "funding_round_type\n",
       "private_equity   73,938,486.28\n",
       "venture          11,724,222.69\n",
       "angel               971,573.89\n",
       "seed                747,827.95\n",
       "Name: raised_amount_usd, dtype: float64"
      ]
     },
     "execution_count": 37,
     "metadata": {},
     "output_type": "execute_result"
    }
   ],
   "source": [
    "fund_master_frame.groupby(by=\"funding_round_type\")[\"raised_amount_usd\"].mean().sort_values(ascending=False)"
   ]
  },
  {
   "cell_type": "code",
   "execution_count": 38,
   "metadata": {},
   "outputs": [],
   "source": [
    "# Filtering master_frame according so that it may contain only the desired information\n",
    "venture_master_frame=fund_master_frame[fund_master_frame[\"funding_round_type\"]==\"venture\"]"
   ]
  },
  {
   "cell_type": "code",
   "execution_count": 39,
   "metadata": {},
   "outputs": [
    {
     "data": {
      "text/plain": [
       "(47809, 6)"
      ]
     },
     "execution_count": 39,
     "metadata": {},
     "output_type": "execute_result"
    }
   ],
   "source": [
    "venture_master_frame.shape"
   ]
  },
  {
   "cell_type": "markdown",
   "metadata": {},
   "source": [
    "#  Country Analysis "
   ]
  },
  {
   "cell_type": "markdown",
   "metadata": {},
   "source": [
    "Spark Funds wants to invest in countries with the highest amount of funding for the chosen investment type\n",
    "It wants to invest only in English-speaking countries because of the ease of communication with the companies it would invest in.\n",
    "Consider a country to be English speaking only if English is one of the official languages in that country\n",
    "So First i am going to extract only those countries where official languages is english\n",
    "\n",
    "fetch the list of english- speaking countries from the given link i.e. https://en.wikipedia.org/wiki/List_of_territorial_entities_where_English_is_an_official_language"
   ]
  },
  {
   "cell_type": "markdown",
   "metadata": {},
   "source": [
    "## Taking only  countries where english is an official language"
   ]
  },
  {
   "cell_type": "code",
   "execution_count": 40,
   "metadata": {},
   "outputs": [],
   "source": [
    "# Reading the table from the given URL\n",
    "tables=pd.read_html(\"https://en.wikipedia.org/wiki/List_of_territorial_entities_where_English_is_an_official_language\")"
   ]
  },
  {
   "cell_type": "code",
   "execution_count": 41,
   "metadata": {},
   "outputs": [
    {
     "data": {
      "text/plain": [
       "list"
      ]
     },
     "execution_count": 41,
     "metadata": {},
     "output_type": "execute_result"
    }
   ],
   "source": [
    "type(tables)"
   ]
  },
  {
   "cell_type": "code",
   "execution_count": 42,
   "metadata": {},
   "outputs": [],
   "source": [
    "# Taking the 2 column(2-alpha counry code) of the first table in the tale list\n",
    "countries=tables[1][2].apply(lambda x:x.split(\"[\")[0])"
   ]
  },
  {
   "cell_type": "code",
   "execution_count": 43,
   "metadata": {},
   "outputs": [],
   "source": [
    "# Taking the 2 column(2-alpha counry code) of the second table in the tale list\n",
    "countries2=tables[0][2].apply(lambda x:x.split(\"[\")[0])"
   ]
  },
  {
   "cell_type": "code",
   "execution_count": 44,
   "metadata": {},
   "outputs": [],
   "source": [
    "# Removing the first row (as it containg only the country header)\n",
    "countries.drop(labels=0,axis=0,inplace=True)\n",
    "countries2.drop(labels=0,axis=0,inplace=True)"
   ]
  },
  {
   "cell_type": "code",
   "execution_count": 45,
   "metadata": {},
   "outputs": [],
   "source": [
    "# Merging the two series to get one single english official language country series\n",
    "country_code=pd.concat([countries,countries2],ignore_index=True)"
   ]
  },
  {
   "cell_type": "code",
   "execution_count": 46,
   "metadata": {},
   "outputs": [],
   "source": [
    "# converting the series into county_code dataframe\n",
    "country_df=pd.DataFrame(data=country_code)"
   ]
  },
  {
   "cell_type": "code",
   "execution_count": 47,
   "metadata": {},
   "outputs": [],
   "source": [
    "# rename the dataframe column to country_code which is same as the country_code in master_frame\n",
    "country_df.rename(columns={2:\"country_code\"},inplace=True)"
   ]
  },
  {
   "cell_type": "code",
   "execution_count": 48,
   "metadata": {},
   "outputs": [],
   "source": [
    "# Merging the dataframe to get only those companies where english is the official language\n",
    "venture_master_frame=venture_master_frame.merge(country_df,on=\"country_code\",how=\"inner\")"
   ]
  },
  {
   "cell_type": "code",
   "execution_count": 49,
   "metadata": {},
   "outputs": [
    {
     "data": {
      "text/html": [
       "<div>\n",
       "<style scoped>\n",
       "    .dataframe tbody tr th:only-of-type {\n",
       "        vertical-align: middle;\n",
       "    }\n",
       "\n",
       "    .dataframe tbody tr th {\n",
       "        vertical-align: top;\n",
       "    }\n",
       "\n",
       "    .dataframe thead th {\n",
       "        text-align: right;\n",
       "    }\n",
       "</style>\n",
       "<table border=\"1\" class=\"dataframe\">\n",
       "  <thead>\n",
       "    <tr style=\"text-align: right;\">\n",
       "      <th></th>\n",
       "      <th>raised_amount_usd</th>\n",
       "    </tr>\n",
       "  </thead>\n",
       "  <tbody>\n",
       "    <tr>\n",
       "      <th>count</th>\n",
       "      <td>40,824.00</td>\n",
       "    </tr>\n",
       "    <tr>\n",
       "      <th>mean</th>\n",
       "      <td>11,533,972.00</td>\n",
       "    </tr>\n",
       "    <tr>\n",
       "      <th>std</th>\n",
       "      <td>94,200,053.92</td>\n",
       "    </tr>\n",
       "    <tr>\n",
       "      <th>min</th>\n",
       "      <td>0.00</td>\n",
       "    </tr>\n",
       "    <tr>\n",
       "      <th>25%</th>\n",
       "      <td>1,600,000.00</td>\n",
       "    </tr>\n",
       "    <tr>\n",
       "      <th>50%</th>\n",
       "      <td>5,000,000.00</td>\n",
       "    </tr>\n",
       "    <tr>\n",
       "      <th>75%</th>\n",
       "      <td>12,000,000.00</td>\n",
       "    </tr>\n",
       "    <tr>\n",
       "      <th>max</th>\n",
       "      <td>17,600,000,000.00</td>\n",
       "    </tr>\n",
       "  </tbody>\n",
       "</table>\n",
       "</div>"
      ],
      "text/plain": [
       "       raised_amount_usd\n",
       "count          40,824.00\n",
       "mean       11,533,972.00\n",
       "std        94,200,053.92\n",
       "min                 0.00\n",
       "25%         1,600,000.00\n",
       "50%         5,000,000.00\n",
       "75%        12,000,000.00\n",
       "max    17,600,000,000.00"
      ]
     },
     "execution_count": 49,
     "metadata": {},
     "output_type": "execute_result"
    }
   ],
   "source": [
    "venture_master_frame.describe()"
   ]
  },
  {
   "cell_type": "code",
   "execution_count": 50,
   "metadata": {},
   "outputs": [],
   "source": [
    "# grouping the investment data according to the country code\n",
    "top9=venture_master_frame.groupby(by=\"country_code\")[\"raised_amount_usd\"].sum().sort_values(ascending=False).to_frame()"
   ]
  },
  {
   "cell_type": "code",
   "execution_count": 51,
   "metadata": {},
   "outputs": [
    {
     "data": {
      "text/html": [
       "<div>\n",
       "<style scoped>\n",
       "    .dataframe tbody tr th:only-of-type {\n",
       "        vertical-align: middle;\n",
       "    }\n",
       "\n",
       "    .dataframe tbody tr th {\n",
       "        vertical-align: top;\n",
       "    }\n",
       "\n",
       "    .dataframe thead th {\n",
       "        text-align: right;\n",
       "    }\n",
       "</style>\n",
       "<table border=\"1\" class=\"dataframe\">\n",
       "  <thead>\n",
       "    <tr style=\"text-align: right;\">\n",
       "      <th></th>\n",
       "      <th>country_code</th>\n",
       "      <th>raised_amount_usd</th>\n",
       "    </tr>\n",
       "  </thead>\n",
       "  <tbody>\n",
       "    <tr>\n",
       "      <th>0</th>\n",
       "      <td>USA</td>\n",
       "      <td>420,068,029,342.00</td>\n",
       "    </tr>\n",
       "    <tr>\n",
       "      <th>1</th>\n",
       "      <td>GBR</td>\n",
       "      <td>20,072,813,004.00</td>\n",
       "    </tr>\n",
       "    <tr>\n",
       "      <th>2</th>\n",
       "      <td>IND</td>\n",
       "      <td>14,261,508,718.00</td>\n",
       "    </tr>\n",
       "    <tr>\n",
       "      <th>3</th>\n",
       "      <td>CAN</td>\n",
       "      <td>9,482,217,668.00</td>\n",
       "    </tr>\n",
       "    <tr>\n",
       "      <th>4</th>\n",
       "      <td>SGP</td>\n",
       "      <td>2,793,917,856.00</td>\n",
       "    </tr>\n",
       "    <tr>\n",
       "      <th>5</th>\n",
       "      <td>IRL</td>\n",
       "      <td>1,669,285,543.00</td>\n",
       "    </tr>\n",
       "    <tr>\n",
       "      <th>6</th>\n",
       "      <td>AUS</td>\n",
       "      <td>1,319,028,698.00</td>\n",
       "    </tr>\n",
       "    <tr>\n",
       "      <th>7</th>\n",
       "      <td>NZL</td>\n",
       "      <td>448,316,383.00</td>\n",
       "    </tr>\n",
       "    <tr>\n",
       "      <th>8</th>\n",
       "      <td>ZAF</td>\n",
       "      <td>233,713,106.00</td>\n",
       "    </tr>\n",
       "    <tr>\n",
       "      <th>9</th>\n",
       "      <td>NGA</td>\n",
       "      <td>183,440,000.00</td>\n",
       "    </tr>\n",
       "    <tr>\n",
       "      <th>10</th>\n",
       "      <td>PHL</td>\n",
       "      <td>114,499,742.00</td>\n",
       "    </tr>\n",
       "    <tr>\n",
       "      <th>11</th>\n",
       "      <td>PAK</td>\n",
       "      <td>83,125,000.00</td>\n",
       "    </tr>\n",
       "    <tr>\n",
       "      <th>12</th>\n",
       "      <td>KEN</td>\n",
       "      <td>53,940,000.00</td>\n",
       "    </tr>\n",
       "    <tr>\n",
       "      <th>13</th>\n",
       "      <td>GHA</td>\n",
       "      <td>31,200,000.00</td>\n",
       "    </tr>\n",
       "    <tr>\n",
       "      <th>14</th>\n",
       "      <td>MLT</td>\n",
       "      <td>17,728,300.00</td>\n",
       "    </tr>\n",
       "    <tr>\n",
       "      <th>15</th>\n",
       "      <td>KNA</td>\n",
       "      <td>15,000,000.00</td>\n",
       "    </tr>\n",
       "    <tr>\n",
       "      <th>16</th>\n",
       "      <td>TTO</td>\n",
       "      <td>8,500,000.00</td>\n",
       "    </tr>\n",
       "    <tr>\n",
       "      <th>17</th>\n",
       "      <td>UGA</td>\n",
       "      <td>2,500,000.00</td>\n",
       "    </tr>\n",
       "    <tr>\n",
       "      <th>18</th>\n",
       "      <td>BWA</td>\n",
       "      <td>2,250,000.00</td>\n",
       "    </tr>\n",
       "    <tr>\n",
       "      <th>19</th>\n",
       "      <td>MUS</td>\n",
       "      <td>1,500,000.00</td>\n",
       "    </tr>\n",
       "    <tr>\n",
       "      <th>20</th>\n",
       "      <td>CMR</td>\n",
       "      <td>359,561.00</td>\n",
       "    </tr>\n",
       "  </tbody>\n",
       "</table>\n",
       "</div>"
      ],
      "text/plain": [
       "   country_code  raised_amount_usd\n",
       "0           USA 420,068,029,342.00\n",
       "1           GBR  20,072,813,004.00\n",
       "2           IND  14,261,508,718.00\n",
       "3           CAN   9,482,217,668.00\n",
       "4           SGP   2,793,917,856.00\n",
       "5           IRL   1,669,285,543.00\n",
       "6           AUS   1,319,028,698.00\n",
       "7           NZL     448,316,383.00\n",
       "8           ZAF     233,713,106.00\n",
       "9           NGA     183,440,000.00\n",
       "10          PHL     114,499,742.00\n",
       "11          PAK      83,125,000.00\n",
       "12          KEN      53,940,000.00\n",
       "13          GHA      31,200,000.00\n",
       "14          MLT      17,728,300.00\n",
       "15          KNA      15,000,000.00\n",
       "16          TTO       8,500,000.00\n",
       "17          UGA       2,500,000.00\n",
       "18          BWA       2,250,000.00\n",
       "19          MUS       1,500,000.00\n",
       "20          CMR         359,561.00"
      ]
     },
     "execution_count": 51,
     "metadata": {},
     "output_type": "execute_result"
    }
   ],
   "source": [
    "top9.reset_index(inplace=True)\n",
    "top9"
   ]
  },
  {
   "cell_type": "code",
   "execution_count": 52,
   "metadata": {},
   "outputs": [],
   "source": [
    "#Slciing the dataframe top9 to get the top-9  countries which have received the highest total funding\n",
    "top9=top9.loc[:8,:]"
   ]
  },
  {
   "cell_type": "code",
   "execution_count": 53,
   "metadata": {},
   "outputs": [
    {
     "data": {
      "text/html": [
       "<div>\n",
       "<style scoped>\n",
       "    .dataframe tbody tr th:only-of-type {\n",
       "        vertical-align: middle;\n",
       "    }\n",
       "\n",
       "    .dataframe tbody tr th {\n",
       "        vertical-align: top;\n",
       "    }\n",
       "\n",
       "    .dataframe thead th {\n",
       "        text-align: right;\n",
       "    }\n",
       "</style>\n",
       "<table border=\"1\" class=\"dataframe\">\n",
       "  <thead>\n",
       "    <tr style=\"text-align: right;\">\n",
       "      <th></th>\n",
       "      <th>country_code</th>\n",
       "      <th>raised_amount_usd</th>\n",
       "    </tr>\n",
       "  </thead>\n",
       "  <tbody>\n",
       "    <tr>\n",
       "      <th>0</th>\n",
       "      <td>USA</td>\n",
       "      <td>420,068,029,342.00</td>\n",
       "    </tr>\n",
       "    <tr>\n",
       "      <th>1</th>\n",
       "      <td>GBR</td>\n",
       "      <td>20,072,813,004.00</td>\n",
       "    </tr>\n",
       "    <tr>\n",
       "      <th>2</th>\n",
       "      <td>IND</td>\n",
       "      <td>14,261,508,718.00</td>\n",
       "    </tr>\n",
       "    <tr>\n",
       "      <th>3</th>\n",
       "      <td>CAN</td>\n",
       "      <td>9,482,217,668.00</td>\n",
       "    </tr>\n",
       "    <tr>\n",
       "      <th>4</th>\n",
       "      <td>SGP</td>\n",
       "      <td>2,793,917,856.00</td>\n",
       "    </tr>\n",
       "    <tr>\n",
       "      <th>5</th>\n",
       "      <td>IRL</td>\n",
       "      <td>1,669,285,543.00</td>\n",
       "    </tr>\n",
       "    <tr>\n",
       "      <th>6</th>\n",
       "      <td>AUS</td>\n",
       "      <td>1,319,028,698.00</td>\n",
       "    </tr>\n",
       "    <tr>\n",
       "      <th>7</th>\n",
       "      <td>NZL</td>\n",
       "      <td>448,316,383.00</td>\n",
       "    </tr>\n",
       "    <tr>\n",
       "      <th>8</th>\n",
       "      <td>ZAF</td>\n",
       "      <td>233,713,106.00</td>\n",
       "    </tr>\n",
       "  </tbody>\n",
       "</table>\n",
       "</div>"
      ],
      "text/plain": [
       "  country_code  raised_amount_usd\n",
       "0          USA 420,068,029,342.00\n",
       "1          GBR  20,072,813,004.00\n",
       "2          IND  14,261,508,718.00\n",
       "3          CAN   9,482,217,668.00\n",
       "4          SGP   2,793,917,856.00\n",
       "5          IRL   1,669,285,543.00\n",
       "6          AUS   1,319,028,698.00\n",
       "7          NZL     448,316,383.00\n",
       "8          ZAF     233,713,106.00"
      ]
     },
     "execution_count": 53,
     "metadata": {},
     "output_type": "execute_result"
    }
   ],
   "source": [
    "top9"
   ]
  },
  {
   "cell_type": "code",
   "execution_count": 54,
   "metadata": {},
   "outputs": [
    {
     "data": {
      "image/png": "[encoded data removed]",
      "text/plain": [
       "<matplotlib.figure.Figure at 0x2206ddd6160>"
      ]
     },
     "metadata": {
      "needs_background": "light"
     },
     "output_type": "display_data"
    }
   ],
   "source": [
    "plt.figure(figsize=(15,8))\n",
    "sb.barplot(y=top9.country_code,x=top9.raised_amount_usd,estimator=np.sum)\n",
    "plt.ticklabel_format(style='plain', axis='x')"
   ]
  },
  {
   "cell_type": "markdown",
   "metadata": {},
   "source": [
    "## The three English-speaking countries in the data frame top9 are\n",
    "## ```USA``` ,\n",
    "## ```GBR``` and\n",
    "## ```IND```"
   ]
  },
  {
   "cell_type": "code",
   "execution_count": 55,
   "metadata": {},
   "outputs": [],
   "source": [
    "country=list(top9.country_code)\n",
    "venture_master_frame=venture_master_frame[venture_master_frame.country_code.isin(country)]"
   ]
  },
  {
   "cell_type": "code",
   "execution_count": 56,
   "metadata": {},
   "outputs": [
    {
     "data": {
      "text/plain": [
       "(40766, 6)"
      ]
     },
     "execution_count": 56,
     "metadata": {},
     "output_type": "execute_result"
    }
   ],
   "source": [
    "venture_master_frame.shape"
   ]
  },
  {
   "cell_type": "markdown",
   "metadata": {},
   "source": [
    "#  Sector Analysis 1 "
   ]
  },
  {
   "cell_type": "markdown",
   "metadata": {},
   "source": [
    "This is the third goal of analysis — sector analysis. \n",
    "  \n",
    "When we say sector analysis, we refer to one of the eight main \n",
    "sectors (named main_sector) listed in the mapping file (note that ‘Other’ is one of the eight \n",
    "main sectors). This is to simplify the analysis by grouping the numerous category lists (named \n",
    "‘category_list’) in the mapping file. For example, in the mapping file, category_lists such as \n",
    "‘3D’, ‘3D Printing’, ‘3D Technology’, etc. are mapped to the main sector ‘Manufacturing’"
   ]
  },
  {
   "cell_type": "code",
   "execution_count": 57,
   "metadata": {},
   "outputs": [],
   "source": [
    "mapping=pd.read_csv(r\"F:\\Data Analytics\\Industrial-Assignment\\Industrial-Assignment\\mapping.csv\")"
   ]
  },
  {
   "cell_type": "code",
   "execution_count": 58,
   "metadata": {},
   "outputs": [
    {
     "data": {
      "text/html": [
       "<div>\n",
       "<style scoped>\n",
       "    .dataframe tbody tr th:only-of-type {\n",
       "        vertical-align: middle;\n",
       "    }\n",
       "\n",
       "    .dataframe tbody tr th {\n",
       "        vertical-align: top;\n",
       "    }\n",
       "\n",
       "    .dataframe thead th {\n",
       "        text-align: right;\n",
       "    }\n",
       "</style>\n",
       "<table border=\"1\" class=\"dataframe\">\n",
       "  <thead>\n",
       "    <tr style=\"text-align: right;\">\n",
       "      <th></th>\n",
       "      <th>category_list</th>\n",
       "      <th>Automotive &amp; Sports</th>\n",
       "      <th>Blanks</th>\n",
       "      <th>Cleantech / Semiconductors</th>\n",
       "      <th>Entertainment</th>\n",
       "      <th>Health</th>\n",
       "      <th>Manufacturing</th>\n",
       "      <th>News, Search and Messaging</th>\n",
       "      <th>Others</th>\n",
       "      <th>Social, Finance, Analytics, Advertising</th>\n",
       "    </tr>\n",
       "  </thead>\n",
       "  <tbody>\n",
       "    <tr>\n",
       "      <th>0</th>\n",
       "      <td>NaN</td>\n",
       "      <td>0</td>\n",
       "      <td>1</td>\n",
       "      <td>0</td>\n",
       "      <td>0</td>\n",
       "      <td>0</td>\n",
       "      <td>0</td>\n",
       "      <td>0</td>\n",
       "      <td>0</td>\n",
       "      <td>0</td>\n",
       "    </tr>\n",
       "    <tr>\n",
       "      <th>1</th>\n",
       "      <td>3D</td>\n",
       "      <td>0</td>\n",
       "      <td>0</td>\n",
       "      <td>0</td>\n",
       "      <td>0</td>\n",
       "      <td>0</td>\n",
       "      <td>1</td>\n",
       "      <td>0</td>\n",
       "      <td>0</td>\n",
       "      <td>0</td>\n",
       "    </tr>\n",
       "    <tr>\n",
       "      <th>2</th>\n",
       "      <td>3D Printing</td>\n",
       "      <td>0</td>\n",
       "      <td>0</td>\n",
       "      <td>0</td>\n",
       "      <td>0</td>\n",
       "      <td>0</td>\n",
       "      <td>1</td>\n",
       "      <td>0</td>\n",
       "      <td>0</td>\n",
       "      <td>0</td>\n",
       "    </tr>\n",
       "    <tr>\n",
       "      <th>3</th>\n",
       "      <td>3D Technology</td>\n",
       "      <td>0</td>\n",
       "      <td>0</td>\n",
       "      <td>0</td>\n",
       "      <td>0</td>\n",
       "      <td>0</td>\n",
       "      <td>1</td>\n",
       "      <td>0</td>\n",
       "      <td>0</td>\n",
       "      <td>0</td>\n",
       "    </tr>\n",
       "    <tr>\n",
       "      <th>4</th>\n",
       "      <td>Accounting</td>\n",
       "      <td>0</td>\n",
       "      <td>0</td>\n",
       "      <td>0</td>\n",
       "      <td>0</td>\n",
       "      <td>0</td>\n",
       "      <td>0</td>\n",
       "      <td>0</td>\n",
       "      <td>0</td>\n",
       "      <td>1</td>\n",
       "    </tr>\n",
       "  </tbody>\n",
       "</table>\n",
       "</div>"
      ],
      "text/plain": [
       "   category_list  Automotive & Sports  Blanks  Cleantech / Semiconductors  \\\n",
       "0            NaN                    0       1                           0   \n",
       "1             3D                    0       0                           0   \n",
       "2    3D Printing                    0       0                           0   \n",
       "3  3D Technology                    0       0                           0   \n",
       "4     Accounting                    0       0                           0   \n",
       "\n",
       "   Entertainment  Health  Manufacturing  News, Search and Messaging  Others  \\\n",
       "0              0       0              0                           0       0   \n",
       "1              0       0              1                           0       0   \n",
       "2              0       0              1                           0       0   \n",
       "3              0       0              1                           0       0   \n",
       "4              0       0              0                           0       0   \n",
       "\n",
       "   Social, Finance, Analytics, Advertising  \n",
       "0                                        0  \n",
       "1                                        0  \n",
       "2                                        0  \n",
       "3                                        0  \n",
       "4                                        1  "
      ]
     },
     "execution_count": 58,
     "metadata": {},
     "output_type": "execute_result"
    }
   ],
   "source": [
    "mapping.head()"
   ]
  },
  {
   "cell_type": "code",
   "execution_count": 59,
   "metadata": {},
   "outputs": [],
   "source": [
    "mapping=pd.melt(mapping,id_vars=\"category_list\")\n"
   ]
  },
  {
   "cell_type": "code",
   "execution_count": 60,
   "metadata": {},
   "outputs": [],
   "source": [
    "mapping=mapping[mapping.value==1]"
   ]
  },
  {
   "cell_type": "code",
   "execution_count": 61,
   "metadata": {},
   "outputs": [],
   "source": [
    "mapping.drop(labels=\"value\",axis=1,inplace=True)"
   ]
  },
  {
   "cell_type": "code",
   "execution_count": 62,
   "metadata": {},
   "outputs": [],
   "source": [
    "## Extract the primary sector of each category list from the category_list column \n",
    "venture_master_frame[\"primary_sector\"]=venture_master_frame.category_list.apply(lambda x:x.split(\"|\")[0]).str.lower()"
   ]
  },
  {
   "cell_type": "code",
   "execution_count": 63,
   "metadata": {},
   "outputs": [
    {
     "data": {
      "text/html": [
       "<div>\n",
       "<style scoped>\n",
       "    .dataframe tbody tr th:only-of-type {\n",
       "        vertical-align: middle;\n",
       "    }\n",
       "\n",
       "    .dataframe tbody tr th {\n",
       "        vertical-align: top;\n",
       "    }\n",
       "\n",
       "    .dataframe thead th {\n",
       "        text-align: right;\n",
       "    }\n",
       "</style>\n",
       "<table border=\"1\" class=\"dataframe\">\n",
       "  <thead>\n",
       "    <tr style=\"text-align: right;\">\n",
       "      <th></th>\n",
       "      <th>category_list</th>\n",
       "      <th>variable</th>\n",
       "    </tr>\n",
       "  </thead>\n",
       "  <tbody>\n",
       "    <tr>\n",
       "      <th>8</th>\n",
       "      <td>Adventure Travel</td>\n",
       "      <td>Automotive &amp; Sports</td>\n",
       "    </tr>\n",
       "    <tr>\n",
       "      <th>14</th>\n",
       "      <td>Aerospace</td>\n",
       "      <td>Automotive &amp; Sports</td>\n",
       "    </tr>\n",
       "    <tr>\n",
       "      <th>45</th>\n",
       "      <td>Auto</td>\n",
       "      <td>Automotive &amp; Sports</td>\n",
       "    </tr>\n",
       "    <tr>\n",
       "      <th>46</th>\n",
       "      <td>Automated Kiosk</td>\n",
       "      <td>Automotive &amp; Sports</td>\n",
       "    </tr>\n",
       "    <tr>\n",
       "      <th>47</th>\n",
       "      <td>Automotive</td>\n",
       "      <td>Automotive &amp; Sports</td>\n",
       "    </tr>\n",
       "  </tbody>\n",
       "</table>\n",
       "</div>"
      ],
      "text/plain": [
       "       category_list             variable\n",
       "8   Adventure Travel  Automotive & Sports\n",
       "14         Aerospace  Automotive & Sports\n",
       "45              Auto  Automotive & Sports\n",
       "46   Automated Kiosk  Automotive & Sports\n",
       "47        Automotive  Automotive & Sports"
      ]
     },
     "execution_count": 63,
     "metadata": {},
     "output_type": "execute_result"
    }
   ],
   "source": [
    "mapping.head()"
   ]
  },
  {
   "cell_type": "code",
   "execution_count": 64,
   "metadata": {},
   "outputs": [],
   "source": [
    "mapping.category_list=mapping.category_list.str.lower()\n",
    "mapping.rename(columns={'variable':'main_sector','category_list':'primary_sector'}, inplace=True)"
   ]
  },
  {
   "cell_type": "code",
   "execution_count": 65,
   "metadata": {},
   "outputs": [],
   "source": [
    "venture_master_frame=pd.merge(venture_master_frame,mapping,on=\"primary_sector\")"
   ]
  },
  {
   "cell_type": "code",
   "execution_count": 66,
   "metadata": {},
   "outputs": [
    {
     "data": {
      "text/html": [
       "<div>\n",
       "<style scoped>\n",
       "    .dataframe tbody tr th:only-of-type {\n",
       "        vertical-align: middle;\n",
       "    }\n",
       "\n",
       "    .dataframe tbody tr th {\n",
       "        vertical-align: top;\n",
       "    }\n",
       "\n",
       "    .dataframe thead th {\n",
       "        text-align: right;\n",
       "    }\n",
       "</style>\n",
       "<table border=\"1\" class=\"dataframe\">\n",
       "  <thead>\n",
       "    <tr style=\"text-align: right;\">\n",
       "      <th></th>\n",
       "      <th>company_permalink</th>\n",
       "      <th>funding_round_type</th>\n",
       "      <th>raised_amount_usd</th>\n",
       "      <th>category_list</th>\n",
       "      <th>status</th>\n",
       "      <th>country_code</th>\n",
       "      <th>primary_sector</th>\n",
       "      <th>main_sector</th>\n",
       "    </tr>\n",
       "  </thead>\n",
       "  <tbody>\n",
       "    <tr>\n",
       "      <th>0</th>\n",
       "      <td>/organization/-fame</td>\n",
       "      <td>venture</td>\n",
       "      <td>10,000,000.00</td>\n",
       "      <td>Media</td>\n",
       "      <td>operating</td>\n",
       "      <td>IND</td>\n",
       "      <td>media</td>\n",
       "      <td>Entertainment</td>\n",
       "    </tr>\n",
       "    <tr>\n",
       "      <th>1</th>\n",
       "      <td>/organization/manas-informatics</td>\n",
       "      <td>venture</td>\n",
       "      <td>160,000.00</td>\n",
       "      <td>Media|News</td>\n",
       "      <td>operating</td>\n",
       "      <td>IND</td>\n",
       "      <td>media</td>\n",
       "      <td>Entertainment</td>\n",
       "    </tr>\n",
       "    <tr>\n",
       "      <th>2</th>\n",
       "      <td>/organization/all-def-digital</td>\n",
       "      <td>venture</td>\n",
       "      <td>5,000,000.00</td>\n",
       "      <td>Media</td>\n",
       "      <td>operating</td>\n",
       "      <td>USA</td>\n",
       "      <td>media</td>\n",
       "      <td>Entertainment</td>\n",
       "    </tr>\n",
       "    <tr>\n",
       "      <th>3</th>\n",
       "      <td>/organization/audiosocket</td>\n",
       "      <td>venture</td>\n",
       "      <td>650,000.00</td>\n",
       "      <td>Media|Music|Technology</td>\n",
       "      <td>operating</td>\n",
       "      <td>USA</td>\n",
       "      <td>media</td>\n",
       "      <td>Entertainment</td>\n",
       "    </tr>\n",
       "    <tr>\n",
       "      <th>4</th>\n",
       "      <td>/organization/audiosocket</td>\n",
       "      <td>venture</td>\n",
       "      <td>750,000.00</td>\n",
       "      <td>Media|Music|Technology</td>\n",
       "      <td>operating</td>\n",
       "      <td>USA</td>\n",
       "      <td>media</td>\n",
       "      <td>Entertainment</td>\n",
       "    </tr>\n",
       "    <tr>\n",
       "      <th>5</th>\n",
       "      <td>/organization/audiosocket</td>\n",
       "      <td>venture</td>\n",
       "      <td>1,582,300.00</td>\n",
       "      <td>Media|Music|Technology</td>\n",
       "      <td>operating</td>\n",
       "      <td>USA</td>\n",
       "      <td>media</td>\n",
       "      <td>Entertainment</td>\n",
       "    </tr>\n",
       "    <tr>\n",
       "      <th>6</th>\n",
       "      <td>/organization/babble</td>\n",
       "      <td>venture</td>\n",
       "      <td>2,000,000.00</td>\n",
       "      <td>Media|News|Parenting</td>\n",
       "      <td>acquired</td>\n",
       "      <td>USA</td>\n",
       "      <td>media</td>\n",
       "      <td>Entertainment</td>\n",
       "    </tr>\n",
       "    <tr>\n",
       "      <th>7</th>\n",
       "      <td>/organization/babble</td>\n",
       "      <td>venture</td>\n",
       "      <td>1,250,000.00</td>\n",
       "      <td>Media|News|Parenting</td>\n",
       "      <td>acquired</td>\n",
       "      <td>USA</td>\n",
       "      <td>media</td>\n",
       "      <td>Entertainment</td>\n",
       "    </tr>\n",
       "    <tr>\n",
       "      <th>8</th>\n",
       "      <td>/organization/babble</td>\n",
       "      <td>venture</td>\n",
       "      <td>3,000,000.00</td>\n",
       "      <td>Media|News|Parenting</td>\n",
       "      <td>acquired</td>\n",
       "      <td>USA</td>\n",
       "      <td>media</td>\n",
       "      <td>Entertainment</td>\n",
       "    </tr>\n",
       "    <tr>\n",
       "      <th>9</th>\n",
       "      <td>/organization/bedloo</td>\n",
       "      <td>venture</td>\n",
       "      <td>657,589.00</td>\n",
       "      <td>Media|News|Software</td>\n",
       "      <td>operating</td>\n",
       "      <td>USA</td>\n",
       "      <td>media</td>\n",
       "      <td>Entertainment</td>\n",
       "    </tr>\n",
       "    <tr>\n",
       "      <th>10</th>\n",
       "      <td>/organization/bedloo</td>\n",
       "      <td>venture</td>\n",
       "      <td>412,500.00</td>\n",
       "      <td>Media|News|Software</td>\n",
       "      <td>operating</td>\n",
       "      <td>USA</td>\n",
       "      <td>media</td>\n",
       "      <td>Entertainment</td>\n",
       "    </tr>\n",
       "    <tr>\n",
       "      <th>11</th>\n",
       "      <td>/organization/bedloo</td>\n",
       "      <td>venture</td>\n",
       "      <td>848,000.00</td>\n",
       "      <td>Media|News|Software</td>\n",
       "      <td>operating</td>\n",
       "      <td>USA</td>\n",
       "      <td>media</td>\n",
       "      <td>Entertainment</td>\n",
       "    </tr>\n",
       "    <tr>\n",
       "      <th>12</th>\n",
       "      <td>/organization/chefs-feed</td>\n",
       "      <td>venture</td>\n",
       "      <td>5,000,000.00</td>\n",
       "      <td>Media|Mobile|Restaurants|Technology</td>\n",
       "      <td>operating</td>\n",
       "      <td>USA</td>\n",
       "      <td>media</td>\n",
       "      <td>Entertainment</td>\n",
       "    </tr>\n",
       "    <tr>\n",
       "      <th>13</th>\n",
       "      <td>/organization/cipher-online-media</td>\n",
       "      <td>venture</td>\n",
       "      <td>1,349,999.00</td>\n",
       "      <td>Media|News|Security</td>\n",
       "      <td>operating</td>\n",
       "      <td>USA</td>\n",
       "      <td>media</td>\n",
       "      <td>Entertainment</td>\n",
       "    </tr>\n",
       "    <tr>\n",
       "      <th>14</th>\n",
       "      <td>/organization/curtco-media-group</td>\n",
       "      <td>venture</td>\n",
       "      <td>100,000,000.00</td>\n",
       "      <td>Media|Publishing|Services</td>\n",
       "      <td>closed</td>\n",
       "      <td>USA</td>\n",
       "      <td>media</td>\n",
       "      <td>Entertainment</td>\n",
       "    </tr>\n",
       "    <tr>\n",
       "      <th>15</th>\n",
       "      <td>/organization/genius-monkey</td>\n",
       "      <td>venture</td>\n",
       "      <td>2,000,000.00</td>\n",
       "      <td>Media</td>\n",
       "      <td>operating</td>\n",
       "      <td>USA</td>\n",
       "      <td>media</td>\n",
       "      <td>Entertainment</td>\n",
       "    </tr>\n",
       "    <tr>\n",
       "      <th>16</th>\n",
       "      <td>/organization/glass-media</td>\n",
       "      <td>venture</td>\n",
       "      <td>30,000.00</td>\n",
       "      <td>Media</td>\n",
       "      <td>closed</td>\n",
       "      <td>USA</td>\n",
       "      <td>media</td>\n",
       "      <td>Entertainment</td>\n",
       "    </tr>\n",
       "    <tr>\n",
       "      <th>17</th>\n",
       "      <td>/organization/globalbased-technologies</td>\n",
       "      <td>venture</td>\n",
       "      <td>3,660,942.00</td>\n",
       "      <td>Media|Technology|Trading</td>\n",
       "      <td>operating</td>\n",
       "      <td>USA</td>\n",
       "      <td>media</td>\n",
       "      <td>Entertainment</td>\n",
       "    </tr>\n",
       "    <tr>\n",
       "      <th>18</th>\n",
       "      <td>/organization/huffingtonpost</td>\n",
       "      <td>venture</td>\n",
       "      <td>5,000,000.00</td>\n",
       "      <td>Media|News|Publishing</td>\n",
       "      <td>acquired</td>\n",
       "      <td>USA</td>\n",
       "      <td>media</td>\n",
       "      <td>Entertainment</td>\n",
       "    </tr>\n",
       "    <tr>\n",
       "      <th>19</th>\n",
       "      <td>/organization/huffingtonpost</td>\n",
       "      <td>venture</td>\n",
       "      <td>5,000,000.00</td>\n",
       "      <td>Media|News|Publishing</td>\n",
       "      <td>acquired</td>\n",
       "      <td>USA</td>\n",
       "      <td>media</td>\n",
       "      <td>Entertainment</td>\n",
       "    </tr>\n",
       "    <tr>\n",
       "      <th>20</th>\n",
       "      <td>/organization/huffingtonpost</td>\n",
       "      <td>venture</td>\n",
       "      <td>25,000,000.00</td>\n",
       "      <td>Media|News|Publishing</td>\n",
       "      <td>acquired</td>\n",
       "      <td>USA</td>\n",
       "      <td>media</td>\n",
       "      <td>Entertainment</td>\n",
       "    </tr>\n",
       "    <tr>\n",
       "      <th>21</th>\n",
       "      <td>/organization/marine-construction-technologies</td>\n",
       "      <td>venture</td>\n",
       "      <td>125,000.00</td>\n",
       "      <td>Media</td>\n",
       "      <td>operating</td>\n",
       "      <td>USA</td>\n",
       "      <td>media</td>\n",
       "      <td>Entertainment</td>\n",
       "    </tr>\n",
       "    <tr>\n",
       "      <th>22</th>\n",
       "      <td>/organization/matchmine</td>\n",
       "      <td>venture</td>\n",
       "      <td>10,000,000.00</td>\n",
       "      <td>Media|News|Reviews and Recommendations</td>\n",
       "      <td>closed</td>\n",
       "      <td>USA</td>\n",
       "      <td>media</td>\n",
       "      <td>Entertainment</td>\n",
       "    </tr>\n",
       "    <tr>\n",
       "      <th>23</th>\n",
       "      <td>/organization/media-group-of-america</td>\n",
       "      <td>venture</td>\n",
       "      <td>1,500,000.00</td>\n",
       "      <td>Media</td>\n",
       "      <td>operating</td>\n",
       "      <td>USA</td>\n",
       "      <td>media</td>\n",
       "      <td>Entertainment</td>\n",
       "    </tr>\n",
       "    <tr>\n",
       "      <th>24</th>\n",
       "      <td>/organization/mediabong</td>\n",
       "      <td>venture</td>\n",
       "      <td>5,000,000.00</td>\n",
       "      <td>Media|Semantic Search|Video</td>\n",
       "      <td>operating</td>\n",
       "      <td>USA</td>\n",
       "      <td>media</td>\n",
       "      <td>Entertainment</td>\n",
       "    </tr>\n",
       "    <tr>\n",
       "      <th>25</th>\n",
       "      <td>/organization/newscorporation</td>\n",
       "      <td>venture</td>\n",
       "      <td>12,500,000.00</td>\n",
       "      <td>Media|News|Publishing</td>\n",
       "      <td>ipo</td>\n",
       "      <td>USA</td>\n",
       "      <td>media</td>\n",
       "      <td>Entertainment</td>\n",
       "    </tr>\n",
       "    <tr>\n",
       "      <th>26</th>\n",
       "      <td>/organization/nokeena</td>\n",
       "      <td>venture</td>\n",
       "      <td>9,400,000.00</td>\n",
       "      <td>Media|Software</td>\n",
       "      <td>acquired</td>\n",
       "      <td>USA</td>\n",
       "      <td>media</td>\n",
       "      <td>Entertainment</td>\n",
       "    </tr>\n",
       "    <tr>\n",
       "      <th>27</th>\n",
       "      <td>/organization/nokeena</td>\n",
       "      <td>venture</td>\n",
       "      <td>15,928,793.00</td>\n",
       "      <td>Media|Software</td>\n",
       "      <td>acquired</td>\n",
       "      <td>USA</td>\n",
       "      <td>media</td>\n",
       "      <td>Entertainment</td>\n",
       "    </tr>\n",
       "    <tr>\n",
       "      <th>28</th>\n",
       "      <td>/organization/nokeena</td>\n",
       "      <td>venture</td>\n",
       "      <td>6,500,000.00</td>\n",
       "      <td>Media|Software</td>\n",
       "      <td>acquired</td>\n",
       "      <td>USA</td>\n",
       "      <td>media</td>\n",
       "      <td>Entertainment</td>\n",
       "    </tr>\n",
       "    <tr>\n",
       "      <th>29</th>\n",
       "      <td>/organization/plumtv</td>\n",
       "      <td>venture</td>\n",
       "      <td>4,400,000.00</td>\n",
       "      <td>Media|Television|Web Hosting</td>\n",
       "      <td>closed</td>\n",
       "      <td>USA</td>\n",
       "      <td>media</td>\n",
       "      <td>Entertainment</td>\n",
       "    </tr>\n",
       "    <tr>\n",
       "      <th>...</th>\n",
       "      <td>...</td>\n",
       "      <td>...</td>\n",
       "      <td>...</td>\n",
       "      <td>...</td>\n",
       "      <td>...</td>\n",
       "      <td>...</td>\n",
       "      <td>...</td>\n",
       "      <td>...</td>\n",
       "    </tr>\n",
       "    <tr>\n",
       "      <th>38004</th>\n",
       "      <td>/organization/treatsie</td>\n",
       "      <td>venture</td>\n",
       "      <td>25,000.00</td>\n",
       "      <td>Gift Exchange|Online Shopping|Specialty Foods</td>\n",
       "      <td>operating</td>\n",
       "      <td>USA</td>\n",
       "      <td>gift exchange</td>\n",
       "      <td>Others</td>\n",
       "    </tr>\n",
       "    <tr>\n",
       "      <th>38005</th>\n",
       "      <td>/organization/treatsie</td>\n",
       "      <td>venture</td>\n",
       "      <td>300,000.00</td>\n",
       "      <td>Gift Exchange|Online Shopping|Specialty Foods</td>\n",
       "      <td>operating</td>\n",
       "      <td>USA</td>\n",
       "      <td>gift exchange</td>\n",
       "      <td>Others</td>\n",
       "    </tr>\n",
       "    <tr>\n",
       "      <th>38006</th>\n",
       "      <td>/organization/trestletree</td>\n",
       "      <td>venture</td>\n",
       "      <td>4,000,000.00</td>\n",
       "      <td>Consumer Behavior|Employer Benefits Programs</td>\n",
       "      <td>acquired</td>\n",
       "      <td>USA</td>\n",
       "      <td>consumer behavior</td>\n",
       "      <td>Social, Finance, Analytics, Advertising</td>\n",
       "    </tr>\n",
       "    <tr>\n",
       "      <th>38007</th>\n",
       "      <td>/organization/wizrocket-technologies</td>\n",
       "      <td>venture</td>\n",
       "      <td>8,000,000.00</td>\n",
       "      <td>Consumer Behavior|Mobile Analytics|SaaS</td>\n",
       "      <td>operating</td>\n",
       "      <td>USA</td>\n",
       "      <td>consumer behavior</td>\n",
       "      <td>Social, Finance, Analytics, Advertising</td>\n",
       "    </tr>\n",
       "    <tr>\n",
       "      <th>38008</th>\n",
       "      <td>/organization/truist</td>\n",
       "      <td>venture</td>\n",
       "      <td>900,000.00</td>\n",
       "      <td>Humanitarian|Human Resources|Software</td>\n",
       "      <td>acquired</td>\n",
       "      <td>USA</td>\n",
       "      <td>humanitarian</td>\n",
       "      <td>Others</td>\n",
       "    </tr>\n",
       "    <tr>\n",
       "      <th>38009</th>\n",
       "      <td>/organization/truist</td>\n",
       "      <td>venture</td>\n",
       "      <td>3,800,000.00</td>\n",
       "      <td>Humanitarian|Human Resources|Software</td>\n",
       "      <td>acquired</td>\n",
       "      <td>USA</td>\n",
       "      <td>humanitarian</td>\n",
       "      <td>Others</td>\n",
       "    </tr>\n",
       "    <tr>\n",
       "      <th>38010</th>\n",
       "      <td>/organization/us-forming-technologies</td>\n",
       "      <td>venture</td>\n",
       "      <td>400,500.00</td>\n",
       "      <td>Mechanical Solutions|Services|Technology</td>\n",
       "      <td>operating</td>\n",
       "      <td>USA</td>\n",
       "      <td>mechanical solutions</td>\n",
       "      <td>Cleantech / Semiconductors</td>\n",
       "    </tr>\n",
       "    <tr>\n",
       "      <th>38011</th>\n",
       "      <td>/organization/user-interface</td>\n",
       "      <td>venture</td>\n",
       "      <td>8,250,000.00</td>\n",
       "      <td>User Interface</td>\n",
       "      <td>operating</td>\n",
       "      <td>USA</td>\n",
       "      <td>user interface</td>\n",
       "      <td>Others</td>\n",
       "    </tr>\n",
       "    <tr>\n",
       "      <th>38012</th>\n",
       "      <td>/organization/vigilant-solutions</td>\n",
       "      <td>venture</td>\n",
       "      <td>3,214,186.00</td>\n",
       "      <td>Law Enforcement|Licensing</td>\n",
       "      <td>operating</td>\n",
       "      <td>USA</td>\n",
       "      <td>law enforcement</td>\n",
       "      <td>Others</td>\n",
       "    </tr>\n",
       "    <tr>\n",
       "      <th>38013</th>\n",
       "      <td>/organization/key-forensic-services</td>\n",
       "      <td>venture</td>\n",
       "      <td>1,569,095.00</td>\n",
       "      <td>Law Enforcement</td>\n",
       "      <td>operating</td>\n",
       "      <td>GBR</td>\n",
       "      <td>law enforcement</td>\n",
       "      <td>Others</td>\n",
       "    </tr>\n",
       "    <tr>\n",
       "      <th>38014</th>\n",
       "      <td>/organization/washio</td>\n",
       "      <td>venture</td>\n",
       "      <td>10,500,000.00</td>\n",
       "      <td>Service Industries</td>\n",
       "      <td>operating</td>\n",
       "      <td>USA</td>\n",
       "      <td>service industries</td>\n",
       "      <td>Others</td>\n",
       "    </tr>\n",
       "    <tr>\n",
       "      <th>38015</th>\n",
       "      <td>/organization/yapta</td>\n",
       "      <td>venture</td>\n",
       "      <td>2,300,000.00</td>\n",
       "      <td>Tracking|Transportation|Travel</td>\n",
       "      <td>operating</td>\n",
       "      <td>USA</td>\n",
       "      <td>tracking</td>\n",
       "      <td>Others</td>\n",
       "    </tr>\n",
       "    <tr>\n",
       "      <th>38016</th>\n",
       "      <td>/organization/yapta</td>\n",
       "      <td>venture</td>\n",
       "      <td>2,000,000.00</td>\n",
       "      <td>Tracking|Transportation|Travel</td>\n",
       "      <td>operating</td>\n",
       "      <td>USA</td>\n",
       "      <td>tracking</td>\n",
       "      <td>Others</td>\n",
       "    </tr>\n",
       "    <tr>\n",
       "      <th>38017</th>\n",
       "      <td>/organization/yapta</td>\n",
       "      <td>venture</td>\n",
       "      <td>2,700,000.00</td>\n",
       "      <td>Tracking|Transportation|Travel</td>\n",
       "      <td>operating</td>\n",
       "      <td>USA</td>\n",
       "      <td>tracking</td>\n",
       "      <td>Others</td>\n",
       "    </tr>\n",
       "    <tr>\n",
       "      <th>38018</th>\n",
       "      <td>/organization/yapta</td>\n",
       "      <td>venture</td>\n",
       "      <td>5,000,000.00</td>\n",
       "      <td>Tracking|Transportation|Travel</td>\n",
       "      <td>operating</td>\n",
       "      <td>USA</td>\n",
       "      <td>tracking</td>\n",
       "      <td>Others</td>\n",
       "    </tr>\n",
       "    <tr>\n",
       "      <th>38019</th>\n",
       "      <td>/organization/yapta</td>\n",
       "      <td>venture</td>\n",
       "      <td>3,500,000.00</td>\n",
       "      <td>Tracking|Transportation|Travel</td>\n",
       "      <td>operating</td>\n",
       "      <td>USA</td>\n",
       "      <td>tracking</td>\n",
       "      <td>Others</td>\n",
       "    </tr>\n",
       "    <tr>\n",
       "      <th>38020</th>\n",
       "      <td>/organization/yapta</td>\n",
       "      <td>venture</td>\n",
       "      <td>4,220,000.00</td>\n",
       "      <td>Tracking|Transportation|Travel</td>\n",
       "      <td>operating</td>\n",
       "      <td>USA</td>\n",
       "      <td>tracking</td>\n",
       "      <td>Others</td>\n",
       "    </tr>\n",
       "    <tr>\n",
       "      <th>38021</th>\n",
       "      <td>/organization/yapta</td>\n",
       "      <td>venture</td>\n",
       "      <td>2,000,000.00</td>\n",
       "      <td>Tracking|Transportation|Travel</td>\n",
       "      <td>operating</td>\n",
       "      <td>USA</td>\n",
       "      <td>tracking</td>\n",
       "      <td>Others</td>\n",
       "    </tr>\n",
       "    <tr>\n",
       "      <th>38022</th>\n",
       "      <td>/organization/yapta</td>\n",
       "      <td>venture</td>\n",
       "      <td>1,786,563.00</td>\n",
       "      <td>Tracking|Transportation|Travel</td>\n",
       "      <td>operating</td>\n",
       "      <td>USA</td>\n",
       "      <td>tracking</td>\n",
       "      <td>Others</td>\n",
       "    </tr>\n",
       "    <tr>\n",
       "      <th>38023</th>\n",
       "      <td>/organization/ziftit</td>\n",
       "      <td>venture</td>\n",
       "      <td>4,000,000.00</td>\n",
       "      <td>Gift Registries|Shopping</td>\n",
       "      <td>closed</td>\n",
       "      <td>USA</td>\n",
       "      <td>gift registries</td>\n",
       "      <td>Others</td>\n",
       "    </tr>\n",
       "    <tr>\n",
       "      <th>38024</th>\n",
       "      <td>/organization/4th-office</td>\n",
       "      <td>venture</td>\n",
       "      <td>3,607,956.00</td>\n",
       "      <td>Office Space</td>\n",
       "      <td>operating</td>\n",
       "      <td>GBR</td>\n",
       "      <td>office space</td>\n",
       "      <td>Others</td>\n",
       "    </tr>\n",
       "    <tr>\n",
       "      <th>38025</th>\n",
       "      <td>/organization/amirite</td>\n",
       "      <td>venture</td>\n",
       "      <td>2,500,000.00</td>\n",
       "      <td>Estimation and Quoting|Opinions|Social Media|S...</td>\n",
       "      <td>operating</td>\n",
       "      <td>GBR</td>\n",
       "      <td>estimation and quoting</td>\n",
       "      <td>Social, Finance, Analytics, Advertising</td>\n",
       "    </tr>\n",
       "    <tr>\n",
       "      <th>38026</th>\n",
       "      <td>/organization/cloudblocks</td>\n",
       "      <td>venture</td>\n",
       "      <td>22,414.00</td>\n",
       "      <td>IaaS|PaaS|SaaS|Software</td>\n",
       "      <td>operating</td>\n",
       "      <td>GBR</td>\n",
       "      <td>iaas</td>\n",
       "      <td>Others</td>\n",
       "    </tr>\n",
       "    <tr>\n",
       "      <th>38027</th>\n",
       "      <td>/organization/decisionsim</td>\n",
       "      <td>venture</td>\n",
       "      <td>1,850,000.00</td>\n",
       "      <td>Online Education|Services|Training</td>\n",
       "      <td>operating</td>\n",
       "      <td>GBR</td>\n",
       "      <td>online education</td>\n",
       "      <td>Others</td>\n",
       "    </tr>\n",
       "    <tr>\n",
       "      <th>38028</th>\n",
       "      <td>/organization/skin-analytics</td>\n",
       "      <td>venture</td>\n",
       "      <td>100,000.00</td>\n",
       "      <td>mHealth|Mobile</td>\n",
       "      <td>operating</td>\n",
       "      <td>GBR</td>\n",
       "      <td>mhealth</td>\n",
       "      <td>Health</td>\n",
       "    </tr>\n",
       "    <tr>\n",
       "      <th>38029</th>\n",
       "      <td>/organization/vector-watch</td>\n",
       "      <td>venture</td>\n",
       "      <td>5,000,000.00</td>\n",
       "      <td>Watch|Wearables</td>\n",
       "      <td>operating</td>\n",
       "      <td>GBR</td>\n",
       "      <td>watch</td>\n",
       "      <td>Others</td>\n",
       "    </tr>\n",
       "    <tr>\n",
       "      <th>38030</th>\n",
       "      <td>/organization/meetingsbooker-com</td>\n",
       "      <td>venture</td>\n",
       "      <td>1,271,800.00</td>\n",
       "      <td>Business Travelers|Hospitality|Hotels|Online T...</td>\n",
       "      <td>operating</td>\n",
       "      <td>IRL</td>\n",
       "      <td>business travelers</td>\n",
       "      <td>Entertainment</td>\n",
       "    </tr>\n",
       "    <tr>\n",
       "      <th>38031</th>\n",
       "      <td>/organization/simmesion-holdings</td>\n",
       "      <td>venture</td>\n",
       "      <td>1,900,000.00</td>\n",
       "      <td>Simulation|Software|Virtual Worlds</td>\n",
       "      <td>operating</td>\n",
       "      <td>AUS</td>\n",
       "      <td>simulation</td>\n",
       "      <td>Others</td>\n",
       "    </tr>\n",
       "    <tr>\n",
       "      <th>38032</th>\n",
       "      <td>/organization/simmesion-holdings</td>\n",
       "      <td>venture</td>\n",
       "      <td>742,000.00</td>\n",
       "      <td>Simulation|Software|Virtual Worlds</td>\n",
       "      <td>operating</td>\n",
       "      <td>AUS</td>\n",
       "      <td>simulation</td>\n",
       "      <td>Others</td>\n",
       "    </tr>\n",
       "    <tr>\n",
       "      <th>38033</th>\n",
       "      <td>/organization/mozambique-tourism</td>\n",
       "      <td>venture</td>\n",
       "      <td>27,200,000.00</td>\n",
       "      <td>Tourism|Travel</td>\n",
       "      <td>operating</td>\n",
       "      <td>ZAF</td>\n",
       "      <td>tourism</td>\n",
       "      <td>Entertainment</td>\n",
       "    </tr>\n",
       "  </tbody>\n",
       "</table>\n",
       "<p>38034 rows × 8 columns</p>\n",
       "</div>"
      ],
      "text/plain": [
       "                                    company_permalink funding_round_type  \\\n",
       "0                                 /organization/-fame            venture   \n",
       "1                     /organization/manas-informatics            venture   \n",
       "2                       /organization/all-def-digital            venture   \n",
       "3                           /organization/audiosocket            venture   \n",
       "4                           /organization/audiosocket            venture   \n",
       "5                           /organization/audiosocket            venture   \n",
       "6                                /organization/babble            venture   \n",
       "7                                /organization/babble            venture   \n",
       "8                                /organization/babble            venture   \n",
       "9                                /organization/bedloo            venture   \n",
       "10                               /organization/bedloo            venture   \n",
       "11                               /organization/bedloo            venture   \n",
       "12                           /organization/chefs-feed            venture   \n",
       "13                  /organization/cipher-online-media            venture   \n",
       "14                   /organization/curtco-media-group            venture   \n",
       "15                        /organization/genius-monkey            venture   \n",
       "16                          /organization/glass-media            venture   \n",
       "17             /organization/globalbased-technologies            venture   \n",
       "18                       /organization/huffingtonpost            venture   \n",
       "19                       /organization/huffingtonpost            venture   \n",
       "20                       /organization/huffingtonpost            venture   \n",
       "21     /organization/marine-construction-technologies            venture   \n",
       "22                            /organization/matchmine            venture   \n",
       "23               /organization/media-group-of-america            venture   \n",
       "24                            /organization/mediabong            venture   \n",
       "25                      /organization/newscorporation            venture   \n",
       "26                              /organization/nokeena            venture   \n",
       "27                              /organization/nokeena            venture   \n",
       "28                              /organization/nokeena            venture   \n",
       "29                               /organization/plumtv            venture   \n",
       "...                                               ...                ...   \n",
       "38004                          /organization/treatsie            venture   \n",
       "38005                          /organization/treatsie            venture   \n",
       "38006                       /organization/trestletree            venture   \n",
       "38007            /organization/wizrocket-technologies            venture   \n",
       "38008                            /organization/truist            venture   \n",
       "38009                            /organization/truist            venture   \n",
       "38010           /organization/us-forming-technologies            venture   \n",
       "38011                    /organization/user-interface            venture   \n",
       "38012                /organization/vigilant-solutions            venture   \n",
       "38013             /organization/key-forensic-services            venture   \n",
       "38014                            /organization/washio            venture   \n",
       "38015                             /organization/yapta            venture   \n",
       "38016                             /organization/yapta            venture   \n",
       "38017                             /organization/yapta            venture   \n",
       "38018                             /organization/yapta            venture   \n",
       "38019                             /organization/yapta            venture   \n",
       "38020                             /organization/yapta            venture   \n",
       "38021                             /organization/yapta            venture   \n",
       "38022                             /organization/yapta            venture   \n",
       "38023                            /organization/ziftit            venture   \n",
       "38024                        /organization/4th-office            venture   \n",
       "38025                           /organization/amirite            venture   \n",
       "38026                       /organization/cloudblocks            venture   \n",
       "38027                       /organization/decisionsim            venture   \n",
       "38028                    /organization/skin-analytics            venture   \n",
       "38029                      /organization/vector-watch            venture   \n",
       "38030                /organization/meetingsbooker-com            venture   \n",
       "38031                /organization/simmesion-holdings            venture   \n",
       "38032                /organization/simmesion-holdings            venture   \n",
       "38033                /organization/mozambique-tourism            venture   \n",
       "\n",
       "       raised_amount_usd                                      category_list  \\\n",
       "0          10,000,000.00                                              Media   \n",
       "1             160,000.00                                         Media|News   \n",
       "2           5,000,000.00                                              Media   \n",
       "3             650,000.00                             Media|Music|Technology   \n",
       "4             750,000.00                             Media|Music|Technology   \n",
       "5           1,582,300.00                             Media|Music|Technology   \n",
       "6           2,000,000.00                               Media|News|Parenting   \n",
       "7           1,250,000.00                               Media|News|Parenting   \n",
       "8           3,000,000.00                               Media|News|Parenting   \n",
       "9             657,589.00                                Media|News|Software   \n",
       "10            412,500.00                                Media|News|Software   \n",
       "11            848,000.00                                Media|News|Software   \n",
       "12          5,000,000.00                Media|Mobile|Restaurants|Technology   \n",
       "13          1,349,999.00                                Media|News|Security   \n",
       "14        100,000,000.00                          Media|Publishing|Services   \n",
       "15          2,000,000.00                                              Media   \n",
       "16             30,000.00                                              Media   \n",
       "17          3,660,942.00                           Media|Technology|Trading   \n",
       "18          5,000,000.00                              Media|News|Publishing   \n",
       "19          5,000,000.00                              Media|News|Publishing   \n",
       "20         25,000,000.00                              Media|News|Publishing   \n",
       "21            125,000.00                                              Media   \n",
       "22         10,000,000.00             Media|News|Reviews and Recommendations   \n",
       "23          1,500,000.00                                              Media   \n",
       "24          5,000,000.00                        Media|Semantic Search|Video   \n",
       "25         12,500,000.00                              Media|News|Publishing   \n",
       "26          9,400,000.00                                     Media|Software   \n",
       "27         15,928,793.00                                     Media|Software   \n",
       "28          6,500,000.00                                     Media|Software   \n",
       "29          4,400,000.00                       Media|Television|Web Hosting   \n",
       "...                  ...                                                ...   \n",
       "38004          25,000.00      Gift Exchange|Online Shopping|Specialty Foods   \n",
       "38005         300,000.00      Gift Exchange|Online Shopping|Specialty Foods   \n",
       "38006       4,000,000.00       Consumer Behavior|Employer Benefits Programs   \n",
       "38007       8,000,000.00            Consumer Behavior|Mobile Analytics|SaaS   \n",
       "38008         900,000.00              Humanitarian|Human Resources|Software   \n",
       "38009       3,800,000.00              Humanitarian|Human Resources|Software   \n",
       "38010         400,500.00           Mechanical Solutions|Services|Technology   \n",
       "38011       8,250,000.00                                     User Interface   \n",
       "38012       3,214,186.00                          Law Enforcement|Licensing   \n",
       "38013       1,569,095.00                                    Law Enforcement   \n",
       "38014      10,500,000.00                                 Service Industries   \n",
       "38015       2,300,000.00                     Tracking|Transportation|Travel   \n",
       "38016       2,000,000.00                     Tracking|Transportation|Travel   \n",
       "38017       2,700,000.00                     Tracking|Transportation|Travel   \n",
       "38018       5,000,000.00                     Tracking|Transportation|Travel   \n",
       "38019       3,500,000.00                     Tracking|Transportation|Travel   \n",
       "38020       4,220,000.00                     Tracking|Transportation|Travel   \n",
       "38021       2,000,000.00                     Tracking|Transportation|Travel   \n",
       "38022       1,786,563.00                     Tracking|Transportation|Travel   \n",
       "38023       4,000,000.00                           Gift Registries|Shopping   \n",
       "38024       3,607,956.00                                       Office Space   \n",
       "38025       2,500,000.00  Estimation and Quoting|Opinions|Social Media|S...   \n",
       "38026          22,414.00                            IaaS|PaaS|SaaS|Software   \n",
       "38027       1,850,000.00                 Online Education|Services|Training   \n",
       "38028         100,000.00                                     mHealth|Mobile   \n",
       "38029       5,000,000.00                                    Watch|Wearables   \n",
       "38030       1,271,800.00  Business Travelers|Hospitality|Hotels|Online T...   \n",
       "38031       1,900,000.00                 Simulation|Software|Virtual Worlds   \n",
       "38032         742,000.00                 Simulation|Software|Virtual Worlds   \n",
       "38033      27,200,000.00                                     Tourism|Travel   \n",
       "\n",
       "          status country_code          primary_sector  \\\n",
       "0      operating          IND                   media   \n",
       "1      operating          IND                   media   \n",
       "2      operating          USA                   media   \n",
       "3      operating          USA                   media   \n",
       "4      operating          USA                   media   \n",
       "5      operating          USA                   media   \n",
       "6       acquired          USA                   media   \n",
       "7       acquired          USA                   media   \n",
       "8       acquired          USA                   media   \n",
       "9      operating          USA                   media   \n",
       "10     operating          USA                   media   \n",
       "11     operating          USA                   media   \n",
       "12     operating          USA                   media   \n",
       "13     operating          USA                   media   \n",
       "14        closed          USA                   media   \n",
       "15     operating          USA                   media   \n",
       "16        closed          USA                   media   \n",
       "17     operating          USA                   media   \n",
       "18      acquired          USA                   media   \n",
       "19      acquired          USA                   media   \n",
       "20      acquired          USA                   media   \n",
       "21     operating          USA                   media   \n",
       "22        closed          USA                   media   \n",
       "23     operating          USA                   media   \n",
       "24     operating          USA                   media   \n",
       "25           ipo          USA                   media   \n",
       "26      acquired          USA                   media   \n",
       "27      acquired          USA                   media   \n",
       "28      acquired          USA                   media   \n",
       "29        closed          USA                   media   \n",
       "...          ...          ...                     ...   \n",
       "38004  operating          USA           gift exchange   \n",
       "38005  operating          USA           gift exchange   \n",
       "38006   acquired          USA       consumer behavior   \n",
       "38007  operating          USA       consumer behavior   \n",
       "38008   acquired          USA            humanitarian   \n",
       "38009   acquired          USA            humanitarian   \n",
       "38010  operating          USA    mechanical solutions   \n",
       "38011  operating          USA          user interface   \n",
       "38012  operating          USA         law enforcement   \n",
       "38013  operating          GBR         law enforcement   \n",
       "38014  operating          USA      service industries   \n",
       "38015  operating          USA                tracking   \n",
       "38016  operating          USA                tracking   \n",
       "38017  operating          USA                tracking   \n",
       "38018  operating          USA                tracking   \n",
       "38019  operating          USA                tracking   \n",
       "38020  operating          USA                tracking   \n",
       "38021  operating          USA                tracking   \n",
       "38022  operating          USA                tracking   \n",
       "38023     closed          USA         gift registries   \n",
       "38024  operating          GBR            office space   \n",
       "38025  operating          GBR  estimation and quoting   \n",
       "38026  operating          GBR                    iaas   \n",
       "38027  operating          GBR        online education   \n",
       "38028  operating          GBR                 mhealth   \n",
       "38029  operating          GBR                   watch   \n",
       "38030  operating          IRL      business travelers   \n",
       "38031  operating          AUS              simulation   \n",
       "38032  operating          AUS              simulation   \n",
       "38033  operating          ZAF                 tourism   \n",
       "\n",
       "                                   main_sector  \n",
       "0                                Entertainment  \n",
       "1                                Entertainment  \n",
       "2                                Entertainment  \n",
       "3                                Entertainment  \n",
       "4                                Entertainment  \n",
       "5                                Entertainment  \n",
       "6                                Entertainment  \n",
       "7                                Entertainment  \n",
       "8                                Entertainment  \n",
       "9                                Entertainment  \n",
       "10                               Entertainment  \n",
       "11                               Entertainment  \n",
       "12                               Entertainment  \n",
       "13                               Entertainment  \n",
       "14                               Entertainment  \n",
       "15                               Entertainment  \n",
       "16                               Entertainment  \n",
       "17                               Entertainment  \n",
       "18                               Entertainment  \n",
       "19                               Entertainment  \n",
       "20                               Entertainment  \n",
       "21                               Entertainment  \n",
       "22                               Entertainment  \n",
       "23                               Entertainment  \n",
       "24                               Entertainment  \n",
       "25                               Entertainment  \n",
       "26                               Entertainment  \n",
       "27                               Entertainment  \n",
       "28                               Entertainment  \n",
       "29                               Entertainment  \n",
       "...                                        ...  \n",
       "38004                                   Others  \n",
       "38005                                   Others  \n",
       "38006  Social, Finance, Analytics, Advertising  \n",
       "38007  Social, Finance, Analytics, Advertising  \n",
       "38008                                   Others  \n",
       "38009                                   Others  \n",
       "38010               Cleantech / Semiconductors  \n",
       "38011                                   Others  \n",
       "38012                                   Others  \n",
       "38013                                   Others  \n",
       "38014                                   Others  \n",
       "38015                                   Others  \n",
       "38016                                   Others  \n",
       "38017                                   Others  \n",
       "38018                                   Others  \n",
       "38019                                   Others  \n",
       "38020                                   Others  \n",
       "38021                                   Others  \n",
       "38022                                   Others  \n",
       "38023                                   Others  \n",
       "38024                                   Others  \n",
       "38025  Social, Finance, Analytics, Advertising  \n",
       "38026                                   Others  \n",
       "38027                                   Others  \n",
       "38028                                   Health  \n",
       "38029                                   Others  \n",
       "38030                            Entertainment  \n",
       "38031                                   Others  \n",
       "38032                                   Others  \n",
       "38033                            Entertainment  \n",
       "\n",
       "[38034 rows x 8 columns]"
      ]
     },
     "execution_count": 66,
     "metadata": {},
     "output_type": "execute_result"
    }
   ],
   "source": [
    "venture_master_frame"
   ]
  },
  {
   "cell_type": "markdown",
   "metadata": {},
   "source": [
    "#  Sector Analysis 2"
   ]
  },
  {
   "cell_type": "markdown",
   "metadata": {},
   "source": [
    "Now you have a data frame with each company’s main sector (main_sector) mapped to it. When \n",
    "we say sector analysis, we refer to one of the eight main sectors. \n",
    "  \n",
    "Also, you know the top three English speaking countries and the most suitable funding type for \n",
    "Spark Funds. Let’s call the three countries 'Country 1', 'Country 2' and 'Country 3' and the \n",
    "funding type 'FT'. \n",
    "Also, the range of funding preferred by Spark Funds is 5 to 15 million USD. \n",
    "  \n",
    "Now, the aim is to find out the most heavily invested main sectors in each of the three countries \n",
    "(for funding type FT and investments range of 5-15 M USD"
   ]
  },
  {
   "cell_type": "code",
   "execution_count": 67,
   "metadata": {},
   "outputs": [
    {
     "data": {
      "text/plain": [
       "array(['Entertainment', 'Others', 'Manufacturing',\n",
       "       'Cleantech / Semiconductors',\n",
       "       'Social, Finance, Analytics, Advertising', 'Automotive & Sports',\n",
       "       'News, Search and Messaging', 'Health'], dtype=object)"
      ]
     },
     "execution_count": 67,
     "metadata": {},
     "output_type": "execute_result"
    }
   ],
   "source": [
    "venture_master_frame.main_sector.unique()"
   ]
  },
  {
   "cell_type": "code",
   "execution_count": 68,
   "metadata": {},
   "outputs": [],
   "source": [
    "D1=venture_master_frame[(venture_master_frame.country_code==\"USA\")&(venture_master_frame.raised_amount_usd>=5000000)&(venture_master_frame.raised_amount_usd<=15000000)]\n",
    "D2=venture_master_frame[(venture_master_frame.country_code==\"GBR\")&(venture_master_frame.raised_amount_usd>=5000000)&(venture_master_frame.raised_amount_usd<=15000000)]\n",
    "D3=venture_master_frame[(venture_master_frame.country_code==\"IND\")&(venture_master_frame.raised_amount_usd>=5000000)&(venture_master_frame.raised_amount_usd<=15000000)]"
   ]
  },
  {
   "cell_type": "markdown",
   "metadata": {},
   "source": [
    "## Creating three separate data frames D1, D2 and D3 for each of the three countries USA , GBR ,IND"
   ]
  },
  {
   "cell_type": "code",
   "execution_count": 69,
   "metadata": {},
   "outputs": [],
   "source": [
    "# For USA\n",
    "usa=D1.pivot_table(values=\"raised_amount_usd\",index=\"main_sector\",aggfunc=(\"sum\",\"count\")).reset_index()\n",
    "D1=D1.merge(usa,on=\"main_sector\")"
   ]
  },
  {
   "cell_type": "code",
   "execution_count": 70,
   "metadata": {},
   "outputs": [],
   "source": [
    "# for GBR\n",
    "gbr=D2.pivot_table(values=\"raised_amount_usd\",index=\"main_sector\",aggfunc=(\"sum\",\"count\")).reset_index()\n",
    "D2=D2.merge(usa,on=\"main_sector\")"
   ]
  },
  {
   "cell_type": "code",
   "execution_count": 71,
   "metadata": {},
   "outputs": [],
   "source": [
    "# for IND\n",
    "ind=D1.pivot_table(values=\"raised_amount_usd\",index=\"main_sector\",aggfunc=(\"sum\",\"count\")).reset_index()\n",
    "D3=D3.merge(usa,on=\"main_sector\")"
   ]
  },
  {
   "cell_type": "markdown",
   "metadata": {},
   "source": [
    "### Getting the count , sum of investments and the  in the three countries"
   ]
  },
  {
   "cell_type": "markdown",
   "metadata": {},
   "source": [
    "### USA"
   ]
  },
  {
   "cell_type": "code",
   "execution_count": 72,
   "metadata": {},
   "outputs": [
    {
     "name": "stdout",
     "output_type": "stream",
     "text": [
      "Count of investments for USA = 11149\n",
      "sum of investments for USA= 99661524549.0 \n",
      "\n",
      "main_sector\n",
      "Others                                     2923\n",
      "Cleantech / Semiconductors                 2297\n",
      "Social, Finance, Analytics, Advertising    1912\n",
      "News, Search and Messaging                 1563\n",
      "Health                                      908\n",
      "Manufacturing                               799\n",
      "Entertainment                               580\n",
      "Automotive & Sports                         167\n",
      "Name: raised_amount_usd, dtype: int64\n"
     ]
    }
   ],
   "source": [
    "## FOR USA\n",
    "print(\"Count of investments for USA =\",D1.raised_amount_usd.count())\n",
    "print(\"sum of investments for USA=\",D1.raised_amount_usd.sum(),'\\n')\n",
    "print(D1.groupby(by=\"main_sector\")[\"raised_amount_usd\"].count().sort_values(ascending=False))\n"
   ]
  },
  {
   "cell_type": "code",
   "execution_count": 73,
   "metadata": {},
   "outputs": [
    {
     "name": "stdout",
     "output_type": "stream",
     "text": [
      "the company recieved the highest investment in  Top Sector i.e. Others Sector\n",
      "company_permalink\n",
      "/organization/virtustream           64,300,000.00\n",
      "/organization/capella               54,968,051.00\n",
      "/organization/airtight-networks     54,201,907.00\n",
      "/organization/decarta               52,100,000.00\n",
      "/organization/black-duck-software   51,000,000.00\n",
      "Name: raised_amount_usd, dtype: float64\n",
      "\n",
      "The company recieved the highest investment in  Second best Sector i.e. Cleantech / Semiconductors Sector\n",
      "company_permalink\n",
      "/organization/biodesix        75,300,000.00\n",
      "/organization/tigo-energy     68,739,496.00\n",
      "/organization/forsight-labs   61,300,001.00\n",
      "/organization/rheonix         56,124,758.00\n",
      "/organization/scienergy       55,375,423.00\n",
      "Name: raised_amount_usd, dtype: float64\n"
     ]
    }
   ],
   "source": [
    "print(\"the company recieved the highest investment in  Top Sector i.e. Others Sector\")\n",
    "print(D1[D1.main_sector==\"Others\"].groupby('company_permalink')['raised_amount_usd'].sum().sort_values(ascending=False).head(5))\n",
    "\n",
    "print(\"\\nThe company recieved the highest investment in  Second best Sector i.e. Cleantech / Semiconductors Sector\")\n",
    "print(D1[D1.main_sector==\"Cleantech / Semiconductors\"].groupby('company_permalink')['raised_amount_usd'].sum().sort_values(ascending=False).head(5))\n"
   ]
  },
  {
   "cell_type": "markdown",
   "metadata": {},
   "source": [
    "### GBR-"
   ]
  },
  {
   "cell_type": "code",
   "execution_count": 74,
   "metadata": {},
   "outputs": [
    {
     "name": "stdout",
     "output_type": "stream",
     "text": [
      "Count of investments for GBR = 577\n",
      "sum of investments for GBR= 5028704358.0 \n",
      "\n",
      "main_sector\n",
      "Others                                     143\n",
      "Cleantech / Semiconductors                 127\n",
      "Social, Finance, Analytics, Advertising     98\n",
      "News, Search and Messaging                  73\n",
      "Entertainment                               54\n",
      "Manufacturing                               42\n",
      "Health                                      24\n",
      "Automotive & Sports                         16\n",
      "Name: raised_amount_usd, dtype: int64\n"
     ]
    }
   ],
   "source": [
    "## FOR GBR\n",
    "print(\"Count of investments for GBR =\",D2.raised_amount_usd.count())\n",
    "print(\"sum of investments for GBR=\",D2.raised_amount_usd.sum(),'\\n')\n",
    "print(D2.groupby(by=\"main_sector\")[\"raised_amount_usd\"].count().sort_values(ascending=False))\n"
   ]
  },
  {
   "cell_type": "code",
   "execution_count": 75,
   "metadata": {},
   "outputs": [
    {
     "name": "stdout",
     "output_type": "stream",
     "text": [
      "the company recieved the highest investment in  Top Sector i.e. Others Sector\n",
      "company_permalink\n",
      "/organization/electric-cloud            37,000,000.00\n",
      "/organization/sensage                   36,250,000.00\n",
      "/organization/enigmatic                 32,500,000.00\n",
      "/organization/silverrail-technologies   29,000,000.00\n",
      "/organization/opencloud                 27,972,766.00\n",
      "Name: raised_amount_usd, dtype: float64\n",
      "\n",
      "The company recieved the highest investment in  Second best Sector i.e. Cleantech / Semiconductors Sector\n",
      "company_permalink\n",
      "/organization/eusa-pharma                                                     35,600,000.00\n",
      "/organization/horizon-discovery                                               31,353,719.00\n",
      "/organization/f-star-biotechnologische-forschungs-und-entwicklungsges-m-b-h   29,132,906.00\n",
      "/organization/elixent                                                         25,000,000.00\n",
      "/organization/takeda-cambridge                                                22,340,000.00\n",
      "Name: raised_amount_usd, dtype: float64\n"
     ]
    }
   ],
   "source": [
    "print(\"the company recieved the highest investment in  Top Sector i.e. Others Sector\")\n",
    "print(D2[D2.main_sector==\"Others\"].groupby('company_permalink')['raised_amount_usd'].sum().sort_values(ascending=False).head(5))\n",
    "\n",
    "print(\"\\nThe company recieved the highest investment in  Second best Sector i.e. Cleantech / Semiconductors Sector\")\n",
    "print(D2[D2.main_sector==\"Cleantech / Semiconductors\"].groupby('company_permalink')['raised_amount_usd'].sum().sort_values(ascending=False).head(5))\n"
   ]
  },
  {
   "cell_type": "markdown",
   "metadata": {},
   "source": [
    "### IND"
   ]
  },
  {
   "cell_type": "code",
   "execution_count": 76,
   "metadata": {},
   "outputs": [
    {
     "name": "stdout",
     "output_type": "stream",
     "text": [
      "Count of investments for IND= 299\n",
      "sum of investments for IND= 2683537552.0 \n",
      "\n",
      "main_sector\n",
      "Others                                     109\n",
      "News, Search and Messaging                  52\n",
      "Entertainment                               33\n",
      "Social, Finance, Analytics, Advertising     32\n",
      "Manufacturing                               21\n",
      "Cleantech / Semiconductors                  20\n",
      "Health                                      19\n",
      "Automotive & Sports                         13\n",
      "Name: raised_amount_usd, dtype: int64\n"
     ]
    }
   ],
   "source": [
    "## FOR IND\n",
    "print(\"Count of investments for IND=\",D3.raised_amount_usd.count())\n",
    "print(\"sum of investments for IND=\",D3.raised_amount_usd.sum(),'\\n')\n",
    "print(D3.groupby(by=\"main_sector\")[\"raised_amount_usd\"].count().sort_values(ascending=False))\n"
   ]
  },
  {
   "cell_type": "code",
   "execution_count": 77,
   "metadata": {},
   "outputs": [
    {
     "name": "stdout",
     "output_type": "stream",
     "text": [
      "the company recieved the highest investment in  Top Sector i.e. Others Sector\n",
      "company_permalink\n",
      "/organization/firstcry-com       39,000,000.00\n",
      "/organization/myntra             38,000,000.00\n",
      "/organization/commonfloor        32,900,000.00\n",
      "/organization/pepperfry-com      28,000,000.00\n",
      "/organization/itzcash-card-ltd   25,000,000.00\n",
      "Name: raised_amount_usd, dtype: float64\n",
      "The company recieved the highest investment in  Second best Sector i.e. News, Search and Messaging Sector\n",
      "company_permalink\n",
      "/organization/gupshup-technology-india-pvt-ltd   33,000,000.00\n",
      "/organization/imimobile                          23,000,000.00\n",
      "/organization/sms-gupshup                        22,000,000.00\n",
      "/organization/hike                               21,000,000.00\n",
      "/organization/roadrunnr                          21,000,000.00\n",
      "Name: raised_amount_usd, dtype: float64\n"
     ]
    }
   ],
   "source": [
    "print(\"the company recieved the highest investment in  Top Sector i.e. Others Sector\")\n",
    "print(D3[D3.main_sector==\"Others\"].groupby('company_permalink')['raised_amount_usd'].sum().sort_values(ascending=False).head(5))\n",
    "\n",
    "print(\"The company recieved the highest investment in  Second best Sector i.e. News, Search and Messaging Sector\")\n",
    "print(D3[D3.main_sector==\"News, Search and Messaging\"].groupby('company_permalink')['raised_amount_usd'].sum().sort_values(ascending=False).head(5))\n"
   ]
  },
  {
   "cell_type": "markdown",
   "metadata": {},
   "source": [
    "# Plots"
   ]
  },
  {
   "cell_type": "markdown",
   "metadata": {},
   "source": [
    "As a final step, you have to present your findings to the CEO of Spark Funds. Specifically, she \n",
    "wants to see the following plots: \n",
    "1. A plot showing the fraction of total investments (globally) in venture, seed, and private \n",
    "equity, and the average amount of investment in each funding type. This chart should \n",
    "make it clear that a certain funding type (FT) is best suited for Spark Funds. \n",
    "2. A plot showing the top 9 countries against the total amount of investments of funding \n",
    "type FT. This should make the top 3 countries (Country 1, Country 2, and Country 3) \n",
    "very clear. \n",
    "3. A plot showing the number of investments in the top 3 sectors of the top 3 countries on \n",
    "one chart (for the chosen investment type FT).  \n",
    "  \n",
    "This plot should clearly display the top 3 sectors each in Country 1, Country 2, and Country 3. "
   ]
  },
  {
   "cell_type": "code",
   "execution_count": 78,
   "metadata": {},
   "outputs": [],
   "source": [
    "plots_df = master_frame[(master_frame['funding_round_type'].isin([\"venture\",\"seed\",\"private_equity\"])) ]"
   ]
  },
  {
   "cell_type": "code",
   "execution_count": 79,
   "metadata": {},
   "outputs": [
    {
     "data": {
      "image/png": "[encoded data removed]",
      "text/plain": [
       "<matplotlib.figure.Figure at 0x2206e0f4470>"
      ]
     },
     "metadata": {
      "needs_background": "light"
     },
     "output_type": "display_data"
    }
   ],
   "source": [
    "plt.figure(figsize=(17,9))\n",
    "\n",
    "plt.yscale('log')\n",
    "plt.subplot(1,2,1)\n",
    "plt.title(\"total investments\")\n",
    "\n",
    "sb.barplot(x=\"funding_round_type\",y=\"raised_amount_usd\",data=plots_df,ci=False)\n",
    "plt.axhline(y=5000000, linewidth=1, color = 'k')\n",
    "plt.axhline(y=15000000, linewidth=1, color = 'k')\n",
    "plt.xticks(rotation=45)\n",
    "plt.subplot(1,2,2)\n",
    "plt.title(\"counts of investments\")\n",
    "sb.countplot(x=\"funding_round_type\",data=plots_df)\n",
    "plt.xticks(rotation=45)\n",
    "plt.show()"
   ]
  },
  {
   "cell_type": "code",
   "execution_count": 80,
   "metadata": {},
   "outputs": [
    {
     "data": {
      "text/plain": [
       "<matplotlib.axes._subplots.AxesSubplot at 0x2206e0ff940>"
      ]
     },
     "execution_count": 80,
     "metadata": {},
     "output_type": "execute_result"
    },
    {
     "name": "stderr",
     "output_type": "stream",
     "text": [
      "C:\\Users\\Dhawal Agarwal\\Anaconda3\\lib\\site-packages\\matplotlib\\scale.py:111: RuntimeWarning: invalid value encountered in less_equal\n",
      "  out[a <= 0] = -1000\n"
     ]
    },
    {
     "data": {
      "image/png": "[encoded data removed]",
      "text/plain": [
       "<matplotlib.figure.Figure at 0x2206e0ff2b0>"
      ]
     },
     "metadata": {
      "needs_background": "light"
     },
     "output_type": "display_data"
    }
   ],
   "source": [
    "plt.figure(figsize = (14,7))\n",
    "\n",
    "plt.yscale('log')\n",
    "plt.title(\" TOP 9 COUNTRIES SALE OF VENTURE TYPE\")\n",
    "sb.barplot(x = top9.country_code, y = top9.raised_amount_usd)"
   ]
  },
  {
   "cell_type": "code",
   "execution_count": 81,
   "metadata": {},
   "outputs": [],
   "source": [
    "usa_top3_sector = ['Others','Cleantech / Semiconductors','Social, Finance, Analytics, Advertising']\n",
    "can_top3_sector = ['Others','Cleantech / Semiconductors','Social, Finance, Analytics, Advertising']\n",
    "ind_top3_sector = ['Others','News, Search and Messaging','Entertainment']"
   ]
  },
  {
   "cell_type": "code",
   "execution_count": 82,
   "metadata": {},
   "outputs": [],
   "source": [
    "D1_ = D1[D1['main_sector'].isin(usa_top3_sector)]\n",
    "D2_ = D2[D2['main_sector'].isin(can_top3_sector)]\n",
    "D3_ = D3[D3['main_sector'].isin(ind_top3_sector)]"
   ]
  },
  {
   "cell_type": "code",
   "execution_count": 87,
   "metadata": {},
   "outputs": [
    {
     "data": {
      "image/png": "[encoded data removed]",
      "text/plain": [
       "<matplotlib.figure.Figure at 0x2206f4fd048>"
      ]
     },
     "metadata": {
      "needs_background": "light"
     },
     "output_type": "display_data"
    }
   ],
   "source": [
    "plt.figure(figsize = (20,8))\n",
    "# FOR USA\n",
    "plt.subplot(131)\n",
    "plt.title('USA')\n",
    "plt.xticks(rotation = 90)\n",
    "sb.countplot(x='main_sector',data =D1_)\n",
    "\n",
    "#FOR CANADA\n",
    "plt.subplot(132)\n",
    "plt.title('CANADA')\n",
    "plt.xticks(rotation = 90)\n",
    "sb.countplot(x='main_sector',data =D2_)\n",
    "\n",
    "\n",
    "#FOR INDIA\n",
    "plt.subplot(133)\n",
    "plt.title('INDIA')\n",
    "plt.xticks(rotation = 90)\n",
    "sb.countplot(x='main_sector',data =D3_)\n",
    "\n",
    "plt.show()"
   ]
  }
 ],
 "metadata": {
  "kernelspec": {
   "display_name": "Python 3",
   "language": "python",
   "name": "python3"
  },
  "language_info": {
   "codemirror_mode": {
    "name": "ipython",
    "version": 3
   },
   "file_extension": ".py",
   "mimetype": "text/x-python",
   "name": "python",
   "nbconvert_exporter": "python",
   "pygments_lexer": "ipython3",
   "version": "3.6.10"
  }
 },
 "nbformat": 4,
 "nbformat_minor": 2
}
